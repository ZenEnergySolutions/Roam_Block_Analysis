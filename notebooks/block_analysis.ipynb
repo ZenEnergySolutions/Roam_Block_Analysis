{
 "cells": [
  {
   "cell_type": "code",
   "execution_count": 1,
   "metadata": {
    "collapsed": true,
    "pycharm": {
     "name": "#%%\n"
    }
   },
   "outputs": [],
   "source": [
    "import pandas as pd\n",
    "import numpy as np"
   ]
  },
  {
   "cell_type": "code",
   "execution_count": 2,
   "outputs": [
    {
     "data": {
      "text/plain": "  Summer 2022 Route  Round Trip  Distance km  Trips/day  Total kms/day\n0               1-1                    11.78         17         200.26\n1               1-2                    11.78         14         164.92\n2               1-3                    11.78          6          70.68\n3              1C-1                    15.50          3          46.50\n4              1C-2                    15.50          5          77.50",
      "text/html": "<div>\n<style scoped>\n    .dataframe tbody tr th:only-of-type {\n        vertical-align: middle;\n    }\n\n    .dataframe tbody tr th {\n        vertical-align: top;\n    }\n\n    .dataframe thead th {\n        text-align: right;\n    }\n</style>\n<table border=\"1\" class=\"dataframe\">\n  <thead>\n    <tr style=\"text-align: right;\">\n      <th></th>\n      <th>Summer 2022 Route</th>\n      <th>Round Trip  Distance km</th>\n      <th>Trips/day</th>\n      <th>Total kms/day</th>\n    </tr>\n  </thead>\n  <tbody>\n    <tr>\n      <th>0</th>\n      <td>1-1</td>\n      <td>11.78</td>\n      <td>17</td>\n      <td>200.26</td>\n    </tr>\n    <tr>\n      <th>1</th>\n      <td>1-2</td>\n      <td>11.78</td>\n      <td>14</td>\n      <td>164.92</td>\n    </tr>\n    <tr>\n      <th>2</th>\n      <td>1-3</td>\n      <td>11.78</td>\n      <td>6</td>\n      <td>70.68</td>\n    </tr>\n    <tr>\n      <th>3</th>\n      <td>1C-1</td>\n      <td>15.50</td>\n      <td>3</td>\n      <td>46.50</td>\n    </tr>\n    <tr>\n      <th>4</th>\n      <td>1C-2</td>\n      <td>15.50</td>\n      <td>5</td>\n      <td>77.50</td>\n    </tr>\n  </tbody>\n</table>\n</div>"
     },
     "execution_count": 2,
     "metadata": {},
     "output_type": "execute_result"
    }
   ],
   "source": [
    "summer_blocks22 = pd.read_excel('../data/summer2022blocks.xlsx', sheet_name='Original')\n",
    "summer_blocks22_regroup = pd.read_excel('../data/summer2022blocks.xlsx', sheet_name='Optimized')\n",
    "winter_blocks22_optimized = pd.read_excel('../data/summer2022blocks.xlsx', sheet_name='Winter Optimized')\n",
    "winter_blocks22 = pd.read_excel('../data/summer2022blocks.xlsx', sheet_name='Winter Original')\n",
    "summer_blocks22.head()"
   ],
   "metadata": {
    "collapsed": false,
    "pycharm": {
     "name": "#%%\n"
    }
   }
  },
  {
   "cell_type": "code",
   "execution_count": 3,
   "outputs": [],
   "source": [
    "# SCT 2030 Bus Ranges Using 95% design\n",
    "range_thresholds ={\n",
    "    'FCEB_TODAY': {'min': 278, 'max': 406},\n",
    "    'FCEB_2025': {'min': 401, 'max': 586},\n",
    "    'FCEB_2030': {'min': 614, 'max': 898},\n",
    "    'FCEB_DD_2030': {'min': 463, 'max': 778},\n",
    "    'BEB_DDB_450': {'min': 146, 'max': 343},\n",
    "    'BEB_S_TODAY': {'min': 127, 'max': 286}, #492 kWh\n",
    "    'BEB_S_2025': {'min': 145, 'max': 328}, #492 kWh\n",
    "    'BEB_S_2030': {'min': 181, 'max': 409}, #492 kWh\n",
    "    'BEB_L_TODAY': {'min': 190, 'max': 430}, #738 kWh\n",
    "    'BEB_L_2025': {'min': 218, 'max': 493}, #738 kWh\n",
    "    'BEB_L_2030': {'min': 272, 'max': 614}, #738 kWh\n",
    "    'BEB_EOL_S_TODAY': {'min': 127, 'max': 286}, #492 kWh\n",
    "    'BEB_EOL_S_2025': {'min': 145, 'max': 328}, #492 kWh\n",
    "    'BEB_EOL_S_2030': {'min': 181, 'max': 409}, #492 kWh\n",
    "    'BEB_EOL_L_TODAY': {'min': 190, 'max': 430}, #738 kWh\n",
    "    'BEB_EOL_L_2025': {'min': 218, 'max': 493}, #738 kWh\n",
    "    'BEB_EOL_L_2030': {'min': 272, 'max': 614}, #738 kWh\n",
    "    'FCEB_TODAY_EOL': {'min': 223, 'max': 325}, #20% Degradation\n",
    "    'FCEB_2025_EOL': {'min': 321, 'max': 470}, #20% Degradation\n",
    "    'FCEB_2030_EOL': {'min': 492, 'max': 720}, #20% Degradation\n",
    "}\n",
    "range_thresholds_cold ={\n",
    "    'FCEB_TODAY': {'min': 278, 'max': 406},\n",
    "    'FCEB_2025': {'min': 401, 'max': 586},\n",
    "    'FCEB_2030': {'min': 614, 'max': 898},\n",
    "    'BEB_S_TODAY': {'min': 102, 'max': 286}, #492 kWh\n",
    "    'BEB_S_2025': {'min': 117, 'max': 328}, #492 kWh\n",
    "    'BEB_S_2030': {'min': 146, 'max': 409}, #492 kWh\n",
    "    'BEB_L_TODAY': {'min': 153, 'max': 430}, #738 kWh\n",
    "    'BEB_L_2025': {'min': 175, 'max': 493}, #738 kWh\n",
    "    'BEB_L_2030': {'min': 219, 'max': 614}, #738 kWh\n",
    "    'BEB_EOL_S_TODAY': {'min': 71, 'max': 201}, #492 kWh\n",
    "    'BEB_EOL_S_2025': {'min': 82, 'max': 230}, #492 kWh\n",
    "    'BEB_EOL_S_2030': {'min': 102, 'max': 287}, #492 kWh\n",
    "    'BEB_EOL_L_TODAY': {'min': 107, 'max': 301}, #738 kWh\n",
    "    'BEB_EOL_L_2025': {'min': 123, 'max': 345}, #738 kWh\n",
    "    'BEB_EOL_L_2030': {'min': 153, 'max': 430}, #738 kWh\n",
    "    'FCEB_TODAY_EOL': {'min': 223, 'max': 325}, #20% Degradation\n",
    "    'FCEB_2025_EOL': {'min': 321, 'max': 470}, #20% Degradation\n",
    "    'FCEB_2030_EOL': {'min': 492, 'max': 720}, #20% Degradation\n",
    "}"
   ],
   "metadata": {
    "collapsed": false,
    "pycharm": {
     "name": "#%%\n"
    }
   }
  },
  {
   "cell_type": "code",
   "execution_count": 4,
   "outputs": [],
   "source": [
    "def bus_type_min(df, bus_range_col, range_dict ):\n",
    "    c1 = (bus_range_col <= range_dict['BEB_450_MIN'])\n",
    "    c2 = (bus_range_col <= range_dict['BEB_675_MIN'])\n",
    "    c3 = (bus_range_col <= range_dict['FCEB_2030_MIN'])\n",
    "    min_conditions = [c1, c2, c3]\n",
    "\n",
    "    v1 = '450 kWh BEB'\n",
    "    v2 = '675 kWh BEB'\n",
    "    v3 = 'FCEB'\n",
    "    min_values = [v1, v2, v3]\n",
    "\n",
    "    df['Min Range Bus Type'] = np.select(min_conditions, min_values, default='No ZEB')\n",
    "\n",
    "    return df\n",
    "\n",
    "def bus_type_max(df, bus_range_col, range_dict):\n",
    "\n",
    "    c4 = (bus_range_col <= range_dict['BEB_450_MAX'])\n",
    "    c5 = (bus_range_col <= range_dict['BEB_675_MAX'])\n",
    "    c6 = (bus_range_col <= range_dict['FCEB_2030_MAX'])\n",
    "    max_conditions = [c4, c5, c6]\n",
    "\n",
    "    v1 = '450 kWh BEB'\n",
    "    v2 = '675 kWh BEB'\n",
    "    v3 = 'FCEB'\n",
    "    max_values = [v1, v2, v3]\n",
    "\n",
    "    df['Max Range Bus Type'] = np.select(max_conditions, max_values, default='No ZEB')\n",
    "\n",
    "    return df"
   ],
   "metadata": {
    "collapsed": false,
    "pycharm": {
     "name": "#%%\n"
    }
   }
  },
  {
   "cell_type": "code",
   "execution_count": 5,
   "outputs": [],
   "source": [
    "def bus_types(df, df_range_col, bus_type_dict, range_thresholds, row_label=None, condition='min'):\n",
    "    \"\"\"\n",
    "    Function that takes a Dataframe object and returns\n",
    "    :param df: Dataframe object that contains routes with a column for route length\n",
    "    :param df_range_col: Dataframe column name of length column\n",
    "    :param bus_type_dict: Dictionary passed to function. Keys are name of bus routes for the Dataframe, values are names of keys for the ranges you wish to use, passed in the range_thresholds dict\n",
    "    :param range_thresholds: Dictionary\n",
    "    :param condition: Default is 'min'. Specify 'min' or 'max' condition for range\n",
    "    :return: Dataframe with additional column for Bus Type that meets route requirements\n",
    "    \"\"\"\n",
    "    conditions = list()\n",
    "    for bus_range in bus_type_dict.values():\n",
    "        range_val = range_thresholds[bus_range][condition]\n",
    "        conditions.append((df[df_range_col] <= range_val))\n",
    "\n",
    "    if row_label:\n",
    "        df[row_label] = np.select(conditions, bus_type_dict.keys(), default='No ZEB')\n",
    "    elif condition == 'min':\n",
    "        df['Bus Type Min'] = np.select(conditions, bus_type_dict.keys(), default='No ZEB')\n",
    "    elif condition == 'max':\n",
    "        df['Bus Type Max'] = np.select(conditions, bus_type_dict.keys(), default='No ZEB')\n",
    "\n",
    "    return df"
   ],
   "metadata": {
    "collapsed": false,
    "pycharm": {
     "name": "#%%\n"
    }
   }
  },
  {
   "cell_type": "code",
   "execution_count": 6,
   "outputs": [],
   "source": [
    "class RouteScenario:\n",
    "\n",
    "    def __init__(self, bus_ranges, bus_selection, schedule, degradation, year, block_scenario): # df, bus_selection,  row_label, condition='min'):\n",
    "        \"\"\"\n",
    "        :param bus_ranges (dictionary): Contains values for each bus type under min and max temperature conditions\n",
    "        :param bus_selection: Dictionary passed to function. Keys are name of bus routes for the Dataframe, values are names of keys for the ranges you wish to use, passed in the range_thresholds dict\n",
    "        :param schedule (string): What time of year is the schedule representative of\n",
    "        :param degradation (boolean): Degradation present in selected ranges\n",
    "        :param year (number): Year of Technology used in scenario\n",
    "        \"\"\"\n",
    "\n",
    "        self.bus_ranges = bus_ranges\n",
    "        self.schedule = schedule\n",
    "        self.degradation = degradation\n",
    "        self.year = year\n",
    "        self.block_scenario = block_scenario\n",
    "        self.bus_selection = bus_selection\n",
    "        self.beb_small_range = bus_selection['BEB 492 kWh']\n",
    "        self.beb_large_range = bus_selection['BEB 738 kWh']\n",
    "        self.fceb_range = bus_selection['FCEB']\n",
    "        self.composition = ''\n",
    "\n",
    "\n",
    "    def bus_types(self, df, row_label, condition):\n",
    "        \"\"\"\n",
    "        Function that takes a Dataframe object and returns\n",
    "        :param df: Dataframe object that contains routes with a column for route length\n",
    "        :param row_label: Dataframe column name of length column\n",
    "        :param condition: Default is 'min'. Specify 'min' or 'max' condition for range\n",
    "        :return: Dataframe with additional column for Bus Type that meets route requirements\n",
    "        \"\"\"\n",
    "\n",
    "        conditions = list()\n",
    "        bus_ranges = self.bus_ranges\n",
    "        bus_selection = self.bus_selection\n",
    "\n",
    "        for bus_range in bus_selection.values():\n",
    "            range_val = bus_ranges[bus_range][condition]\n",
    "            conditions.append((df[row_label] <= int(range_val)))\n",
    "\n",
    "\n",
    "        df['Composition'] = np.select(conditions, bus_selection.keys(), default='No ZEB')\n",
    "        self.composition =df['Composition']\n",
    "\n",
    "        return self.composition\n"
   ],
   "metadata": {
    "collapsed": false,
    "pycharm": {
     "name": "#%%\n"
    }
   }
  },
  {
   "cell_type": "markdown",
   "source": [],
   "metadata": {
    "collapsed": false,
    "pycharm": {
     "name": "#%% md\n"
    }
   }
  },
  {
   "cell_type": "code",
   "execution_count": 7,
   "outputs": [],
   "source": [
    "scenarios = [{\n",
    "    #\n",
    "    # 2022 Summer Scenarios\n",
    "    #\n",
    "\n",
    "    'bus_selection': {'BEB 492 kWh': 'BEB_S_TODAY', 'BEB 738 kWh': 'BEB_L_TODAY', 'FCEB': 'FCEB_TODAY'},\n",
    "    'schedule': 'Summer',\n",
    "    'year': 2022,\n",
    "    'degradation': False,\n",
    "    'block_scenario': 'Existing'\n",
    "},{\n",
    "    'bus_selection': {'BEB 492 kWh': 'BEB_EOL_S_TODAY', 'BEB 738 kWh': 'BEB_EOL_L_TODAY', 'FCEB': 'FCEB_TODAY_EOL'},\n",
    "    'schedule': 'Summer',\n",
    "    'year': 2022,\n",
    "    'degradation': True,\n",
    "    'block_scenario': 'Existing'\n",
    "},{\n",
    "    'bus_selection': {'BEB 492 kWh': 'BEB_S_TODAY', 'BEB 738 kWh': 'BEB_L_TODAY', 'FCEB': 'FCEB_TODAY'},\n",
    "    'schedule': 'Summer',\n",
    "    'year': 2022,\n",
    "    'degradation': False,\n",
    "    'block_scenario': 'Optimized'\n",
    "},{\n",
    "    'bus_selection': {'BEB 492 kWh': 'BEB_EOL_S_TODAY', 'BEB 738 kWh': 'BEB_EOL_L_TODAY', 'FCEB': 'FCEB_TODAY_EOL'},\n",
    "    'schedule': 'Summer',\n",
    "    'year': 2022,\n",
    "    'degradation': True,\n",
    "    'block_scenario': 'Optimized'\n",
    "},\n",
    "    #\n",
    "    # 2025 Summer Scenarios\n",
    "    #\n",
    "\n",
    "    {\n",
    "    'bus_selection': {'BEB 492 kWh': 'BEB_S_2025', 'BEB 738 kWh': 'BEB_L_2025', 'FCEB': 'FCEB_2025'},\n",
    "    'schedule': 'Summer',\n",
    "    'year': 2025,\n",
    "    'degradation': False,\n",
    "    'block_scenario': 'Existing'\n",
    "},{\n",
    "    'bus_selection': {'BEB 492 kWh': 'BEB_EOL_S_2025', 'BEB 738 kWh': 'BEB_EOL_L_2025', 'FCEB': 'FCEB_2025_EOL'},\n",
    "    'schedule': 'Summer',\n",
    "    'year': 2025,\n",
    "    'degradation': True,\n",
    "    'block_scenario': 'Existing'\n",
    "},{\n",
    "    'bus_selection': {'BEB 492 kWh': 'BEB_S_2025', 'BEB 738 kWh': 'BEB_L_2025', 'FCEB': 'FCEB_2025'},\n",
    "    'schedule': 'Summer',\n",
    "    'year': 2025,\n",
    "    'degradation': False,\n",
    "    'block_scenario': 'Optimized'\n",
    "},{\n",
    "    'bus_selection': {'BEB 492 kWh': 'BEB_EOL_S_2025', 'BEB 738 kWh': 'BEB_EOL_L_2025', 'FCEB': 'FCEB_2025_EOL'},\n",
    "    'schedule': 'Summer',\n",
    "    'year': 2025,\n",
    "    'degradation': True,\n",
    "    'block_scenario': 'Optimized'\n",
    "},\n",
    "    #\n",
    "    # 2030 Summer Blocks\n",
    "    #\n",
    "\n",
    "    {\n",
    "    'bus_selection': {'BEB 492 kWh': 'BEB_S_2030', 'BEB 738 kWh': 'BEB_L_2030', 'FCEB': 'FCEB_2030'},\n",
    "    'schedule': 'Summer',\n",
    "    'year': 2030,\n",
    "    'degradation': False,\n",
    "    'block_scenario': 'Existing'\n",
    "},{\n",
    "    'bus_selection': {'BEB 492 kWh': 'BEB_EOL_S_2030', 'BEB 738 kWh': 'BEB_EOL_L_2030', 'FCEB': 'FCEB_2030_EOL'},\n",
    "    'schedule': 'Summer',\n",
    "    'year': 2030,\n",
    "    'degradation': True,\n",
    "    'block_scenario': 'Existing'\n",
    "},{\n",
    "    'bus_selection': {'BEB 492 kWh': 'BEB_S_2030', 'BEB 738 kWh': 'BEB_L_2030', 'FCEB': 'FCEB_2030'},\n",
    "    'schedule': 'Summer',\n",
    "    'year': 2030,\n",
    "    'degradation': False,\n",
    "    'block_scenario': 'Optimized'\n",
    "},{\n",
    "    'bus_selection': {'BEB 492 kWh': 'BEB_EOL_S_2030', 'BEB 738 kWh': 'BEB_EOL_L_2030', 'FCEB': 'FCEB_2030_EOL'},\n",
    "    'schedule': 'Summer',\n",
    "    'year': 2030,\n",
    "    'degradation': True,\n",
    "    'block_scenario': 'Optimized'\n",
    "},{\n",
    "    #\n",
    "    # 2022 Winter Scenarios\n",
    "    #\n",
    "\n",
    "    'bus_selection': {'BEB 492 kWh': 'BEB_S_TODAY', 'BEB 738 kWh': 'BEB_L_TODAY', 'FCEB': 'FCEB_TODAY'},\n",
    "    'schedule': 'Winter',\n",
    "    'year': 2022,\n",
    "    'degradation': False,\n",
    "    'block_scenario': 'Existing'\n",
    "},{\n",
    "    'bus_selection': {'BEB 492 kWh': 'BEB_EOL_S_TODAY', 'BEB 738 kWh': 'BEB_EOL_L_TODAY', 'FCEB': 'FCEB_TODAY_EOL'},\n",
    "    'schedule': 'Winter',\n",
    "    'year': 2022,\n",
    "    'degradation': True,\n",
    "    'block_scenario': 'Existing'\n",
    "},{\n",
    "    'bus_selection': {'BEB 492 kWh': 'BEB_S_TODAY', 'BEB 738 kWh': 'BEB_L_TODAY', 'FCEB': 'FCEB_TODAY'},\n",
    "    'schedule': 'Winter',\n",
    "    'year': 2022,\n",
    "    'degradation': False,\n",
    "    'block_scenario': 'Optimized'\n",
    "},{\n",
    "    'bus_selection': {'BEB 492 kWh': 'BEB_EOL_S_TODAY', 'BEB 738 kWh': 'BEB_EOL_L_TODAY', 'FCEB': 'FCEB_TODAY_EOL'},\n",
    "    'schedule': 'Winter',\n",
    "    'year': 2022,\n",
    "    'degradation': True,\n",
    "    'block_scenario': 'Optimized'\n",
    "},\n",
    "    #\n",
    "    # 2025 Winter Scenarios\n",
    "    #\n",
    "\n",
    "    {\n",
    "    'bus_selection': {'BEB 492 kWh': 'BEB_S_2025', 'BEB 738 kWh': 'BEB_L_2025', 'FCEB': 'FCEB_2025'},\n",
    "    'schedule': 'Winter',\n",
    "    'year': 2025,\n",
    "    'degradation': False,\n",
    "    'block_scenario': 'Existing'\n",
    "},{\n",
    "    'bus_selection': {'BEB 492 kWh': 'BEB_EOL_S_2025', 'BEB 738 kWh': 'BEB_EOL_L_2025', 'FCEB': 'FCEB_2025_EOL'},\n",
    "    'schedule': 'Winter',\n",
    "    'year': 2025,\n",
    "    'degradation': True,\n",
    "    'block_scenario': 'Existing'\n",
    "},{\n",
    "    'bus_selection': {'BEB 492 kWh': 'BEB_S_2025', 'BEB 738 kWh': 'BEB_L_2025', 'FCEB': 'FCEB_2025'},\n",
    "    'schedule': 'Winter',\n",
    "    'year': 2025,\n",
    "    'degradation': False,\n",
    "    'block_scenario': 'Optimized'\n",
    "},{\n",
    "    'bus_selection': {'BEB 492 kWh': 'BEB_EOL_S_2025', 'BEB 738 kWh': 'BEB_EOL_L_2025', 'FCEB': 'FCEB_2025_EOL'},\n",
    "    'schedule': 'Winter',\n",
    "    'year': 2025,\n",
    "    'degradation': True,\n",
    "    'block_scenario': 'Optimized'\n",
    "},\n",
    "    #\n",
    "    # 2030 Winter Blocks\n",
    "    #\n",
    "\n",
    "    {\n",
    "    'bus_selection': {'BEB 492 kWh': 'BEB_S_2030', 'BEB 738 kWh': 'BEB_L_2030', 'FCEB': 'FCEB_2030'},\n",
    "    'schedule': 'Winter',\n",
    "    'year': 2030,\n",
    "    'degradation': False,\n",
    "    'block_scenario': 'Existing'\n",
    "},{\n",
    "    'bus_selection': {'BEB 492 kWh': 'BEB_EOL_S_2030', 'BEB 738 kWh': 'BEB_EOL_L_2030', 'FCEB': 'FCEB_2030_EOL'},\n",
    "    'schedule': 'Winter',\n",
    "    'year': 2030,\n",
    "    'degradation': True,\n",
    "    'block_scenario': 'Existing'\n",
    "},{\n",
    "    'bus_selection': {'BEB 492 kWh': 'BEB_S_2030', 'BEB 738 kWh': 'BEB_L_2030', 'FCEB': 'FCEB_2030'},\n",
    "    'schedule': 'Winter',\n",
    "    'year': 2030,\n",
    "    'degradation': False,\n",
    "    'block_scenario': 'Optimized'\n",
    "},{\n",
    "    'bus_selection': {'BEB 492 kWh': 'BEB_EOL_S_2030', 'BEB 738 kWh': 'BEB_EOL_L_2030', 'FCEB': 'FCEB_2030_EOL'},\n",
    "    'schedule': 'Winter',\n",
    "    'year': 2030,\n",
    "    'degradation': True,\n",
    "    'block_scenario': 'Optimized'\n",
    "},\n",
    "]"
   ],
   "metadata": {
    "collapsed": false,
    "pycharm": {
     "name": "#%%\n"
    }
   }
  },
  {
   "cell_type": "code",
   "execution_count": 8,
   "outputs": [],
   "source": [
    "scenario_objs = list()\n",
    "for scenario in scenarios:\n",
    "    route_scenario = RouteScenario(range_thresholds_cold, scenario['bus_selection'], scenario['schedule'], scenario['degradation'], scenario['year'], scenario['block_scenario'])\n",
    "    scenario_objs.append(route_scenario)\n"
   ],
   "metadata": {
    "collapsed": false,
    "pycharm": {
     "name": "#%%\n"
    }
   }
  },
  {
   "cell_type": "code",
   "execution_count": 9,
   "outputs": [],
   "source": [
    "# scenario = scenarios[0]\n",
    "# route_scenario = RouteScenario(range_thresholds, scenario['bus_selection'], scenario['schedule'], scenario['degradation'], scenario['year'], scenario['block_scenario'])\n",
    "# route_scenario.bus_types(summer_blocks22, 'Total kms/day', 'min' )"
   ],
   "metadata": {
    "collapsed": false,
    "pycharm": {
     "name": "#%%\n"
    }
   }
  },
  {
   "cell_type": "code",
   "execution_count": 10,
   "outputs": [
    {
     "data": {
      "text/plain": "(26, 4)"
     },
     "execution_count": 10,
     "metadata": {},
     "output_type": "execute_result"
    }
   ],
   "source": [
    "summer_blocks22.shape"
   ],
   "metadata": {
    "collapsed": false,
    "pycharm": {
     "name": "#%%\n"
    }
   }
  },
  {
   "cell_type": "code",
   "execution_count": 11,
   "outputs": [
    {
     "data": {
      "text/plain": "   Block Scenario Degradation Schedule  Technology  Number of Blocks  \\\n0        Existing       False   Summer      2022.0              26.0   \n1        Existing        True   Summer      2022.0              26.0   \n2       Optimized       False   Summer      2022.0              33.0   \n3       Optimized        True   Summer      2022.0              33.0   \n4        Existing       False   Summer      2025.0              26.0   \n5        Existing        True   Summer      2025.0              26.0   \n6       Optimized       False   Summer      2025.0              33.0   \n7       Optimized        True   Summer      2025.0              33.0   \n8        Existing       False   Summer      2030.0              26.0   \n9        Existing        True   Summer      2030.0              26.0   \n10      Optimized       False   Summer      2030.0              33.0   \n11      Optimized        True   Summer      2030.0              33.0   \n12       Existing       False   Winter      2022.0              19.0   \n13       Existing        True   Winter      2022.0              19.0   \n14      Optimized       False   Winter      2022.0              24.0   \n15      Optimized        True   Winter      2022.0              24.0   \n16       Existing       False   Winter      2025.0              19.0   \n17       Existing        True   Winter      2025.0              19.0   \n18      Optimized       False   Winter      2025.0              24.0   \n19      Optimized        True   Winter      2025.0              24.0   \n20       Existing       False   Winter      2030.0              19.0   \n21       Existing        True   Winter      2030.0              19.0   \n22      Optimized       False   Winter      2030.0              24.0   \n23      Optimized        True   Winter      2030.0              24.0   \n\n    Max Block Length  BEB Small Min  BEB Large Min  FCEB Min  BEB Small Max  \\\n0             776.40          102.0          153.0     278.0          286.0   \n1             776.40           71.0          107.0     223.0          201.0   \n2             379.21          102.0          153.0     278.0          286.0   \n3             379.21           71.0          107.0     223.0          201.0   \n4             776.40          117.0          175.0     401.0          328.0   \n5             776.40           82.0          123.0     321.0          230.0   \n6             379.21          117.0          175.0     401.0          328.0   \n7             379.21           82.0          123.0     321.0          230.0   \n8             776.40          146.0          219.0     614.0          409.0   \n9             776.40          102.0          153.0     492.0          287.0   \n10            379.21          146.0          219.0     614.0          409.0   \n11            379.21          102.0          153.0     492.0          287.0   \n12            776.40          102.0          153.0     278.0          286.0   \n13            776.40           71.0          107.0     223.0          201.0   \n14            367.41          102.0          153.0     278.0          286.0   \n15            367.41           71.0          107.0     223.0          201.0   \n16            776.40          117.0          175.0     401.0          328.0   \n17            776.40           82.0          123.0     321.0          230.0   \n18            367.41          117.0          175.0     401.0          328.0   \n19            367.41           82.0          123.0     321.0          230.0   \n20            776.40          146.0          219.0     614.0          409.0   \n21            776.40          102.0          153.0     492.0          287.0   \n22            367.41          146.0          219.0     614.0          409.0   \n23            367.41          102.0          153.0     492.0          287.0   \n\n    BEB Large Max  FCEB Max  % BEB Small Min  % BEB Large Min  % FCEB Min  \\\n0           430.0     406.0         0.230769         0.038462    0.153846   \n1           301.0     325.0         0.153846         0.076923    0.192308   \n2           430.0     406.0         0.181818         0.060606    0.181818   \n3           301.0     325.0         0.121212         0.060606    0.181818   \n4           493.0     586.0         0.269231         0.115385    0.346154   \n5           345.0     470.0         0.192308         0.076923    0.192308   \n6           493.0     586.0         0.212121         0.121212    0.666667   \n7           345.0     470.0         0.151515         0.060606    0.454545   \n8           614.0     898.0         0.269231         0.153846    0.500000   \n9           430.0     720.0         0.230769         0.038462    0.500000   \n10          614.0     898.0         0.212121         0.151515    0.636364   \n11          430.0     720.0         0.181818         0.060606    0.757576   \n12          430.0     406.0         0.315789         0.000000    0.210526   \n13          301.0     325.0         0.210526         0.105263    0.210526   \n14          430.0     406.0         0.250000         0.000000    0.250000   \n15          301.0     325.0         0.166667         0.083333    0.166667   \n16          493.0     586.0         0.315789         0.157895    0.263158   \n17          345.0     470.0         0.263158         0.052632    0.210526   \n18          493.0     586.0         0.250000         0.125000    0.625000   \n19          345.0     470.0         0.208333         0.041667    0.416667   \n20          614.0     898.0         0.315789         0.210526    0.368421   \n21          430.0     720.0         0.315789         0.000000    0.421053   \n22          614.0     898.0         0.250000         0.166667    0.583333   \n23          430.0     720.0         0.250000         0.000000    0.750000   \n\n    % BEB Small Max  % BEB Large Max  % FCEB Max  \n0          0.423077         0.307692    0.000000  \n1          0.423077         0.038462    0.000000  \n2          0.424242         0.575758    0.000000  \n3          0.363636         0.181818    0.121212  \n4          0.461538         0.307692    0.038462  \n5          0.423077         0.192308    0.153846  \n6          0.666667         0.333333    0.000000  \n7          0.363636         0.424242    0.212121  \n8          0.730769         0.192308    0.076923  \n9          0.423077         0.307692    0.192308  \n10         1.000000         0.000000    0.000000  \n11         0.424242         0.575758    0.000000  \n12         0.526316         0.210526    0.000000  \n13         0.526316         0.000000    0.000000  \n14         0.500000         0.500000    0.000000  \n15         0.416667         0.083333    0.166667  \n16         0.526316         0.210526    0.052632  \n17         0.526316         0.210526    0.000000  \n18         0.666667         0.333333    0.000000  \n19         0.416667         0.416667    0.166667  \n20         0.736842         0.157895    0.105263  \n21         0.526316         0.210526    0.157895  \n22         1.000000         0.000000    0.000000  \n23         0.500000         0.500000    0.000000  ",
      "text/html": "<div>\n<style scoped>\n    .dataframe tbody tr th:only-of-type {\n        vertical-align: middle;\n    }\n\n    .dataframe tbody tr th {\n        vertical-align: top;\n    }\n\n    .dataframe thead th {\n        text-align: right;\n    }\n</style>\n<table border=\"1\" class=\"dataframe\">\n  <thead>\n    <tr style=\"text-align: right;\">\n      <th></th>\n      <th>Block Scenario</th>\n      <th>Degradation</th>\n      <th>Schedule</th>\n      <th>Technology</th>\n      <th>Number of Blocks</th>\n      <th>Max Block Length</th>\n      <th>BEB Small Min</th>\n      <th>BEB Large Min</th>\n      <th>FCEB Min</th>\n      <th>BEB Small Max</th>\n      <th>BEB Large Max</th>\n      <th>FCEB Max</th>\n      <th>% BEB Small Min</th>\n      <th>% BEB Large Min</th>\n      <th>% FCEB Min</th>\n      <th>% BEB Small Max</th>\n      <th>% BEB Large Max</th>\n      <th>% FCEB Max</th>\n    </tr>\n  </thead>\n  <tbody>\n    <tr>\n      <th>0</th>\n      <td>Existing</td>\n      <td>False</td>\n      <td>Summer</td>\n      <td>2022.0</td>\n      <td>26.0</td>\n      <td>776.40</td>\n      <td>102.0</td>\n      <td>153.0</td>\n      <td>278.0</td>\n      <td>286.0</td>\n      <td>430.0</td>\n      <td>406.0</td>\n      <td>0.230769</td>\n      <td>0.038462</td>\n      <td>0.153846</td>\n      <td>0.423077</td>\n      <td>0.307692</td>\n      <td>0.000000</td>\n    </tr>\n    <tr>\n      <th>1</th>\n      <td>Existing</td>\n      <td>True</td>\n      <td>Summer</td>\n      <td>2022.0</td>\n      <td>26.0</td>\n      <td>776.40</td>\n      <td>71.0</td>\n      <td>107.0</td>\n      <td>223.0</td>\n      <td>201.0</td>\n      <td>301.0</td>\n      <td>325.0</td>\n      <td>0.153846</td>\n      <td>0.076923</td>\n      <td>0.192308</td>\n      <td>0.423077</td>\n      <td>0.038462</td>\n      <td>0.000000</td>\n    </tr>\n    <tr>\n      <th>2</th>\n      <td>Optimized</td>\n      <td>False</td>\n      <td>Summer</td>\n      <td>2022.0</td>\n      <td>33.0</td>\n      <td>379.21</td>\n      <td>102.0</td>\n      <td>153.0</td>\n      <td>278.0</td>\n      <td>286.0</td>\n      <td>430.0</td>\n      <td>406.0</td>\n      <td>0.181818</td>\n      <td>0.060606</td>\n      <td>0.181818</td>\n      <td>0.424242</td>\n      <td>0.575758</td>\n      <td>0.000000</td>\n    </tr>\n    <tr>\n      <th>3</th>\n      <td>Optimized</td>\n      <td>True</td>\n      <td>Summer</td>\n      <td>2022.0</td>\n      <td>33.0</td>\n      <td>379.21</td>\n      <td>71.0</td>\n      <td>107.0</td>\n      <td>223.0</td>\n      <td>201.0</td>\n      <td>301.0</td>\n      <td>325.0</td>\n      <td>0.121212</td>\n      <td>0.060606</td>\n      <td>0.181818</td>\n      <td>0.363636</td>\n      <td>0.181818</td>\n      <td>0.121212</td>\n    </tr>\n    <tr>\n      <th>4</th>\n      <td>Existing</td>\n      <td>False</td>\n      <td>Summer</td>\n      <td>2025.0</td>\n      <td>26.0</td>\n      <td>776.40</td>\n      <td>117.0</td>\n      <td>175.0</td>\n      <td>401.0</td>\n      <td>328.0</td>\n      <td>493.0</td>\n      <td>586.0</td>\n      <td>0.269231</td>\n      <td>0.115385</td>\n      <td>0.346154</td>\n      <td>0.461538</td>\n      <td>0.307692</td>\n      <td>0.038462</td>\n    </tr>\n    <tr>\n      <th>5</th>\n      <td>Existing</td>\n      <td>True</td>\n      <td>Summer</td>\n      <td>2025.0</td>\n      <td>26.0</td>\n      <td>776.40</td>\n      <td>82.0</td>\n      <td>123.0</td>\n      <td>321.0</td>\n      <td>230.0</td>\n      <td>345.0</td>\n      <td>470.0</td>\n      <td>0.192308</td>\n      <td>0.076923</td>\n      <td>0.192308</td>\n      <td>0.423077</td>\n      <td>0.192308</td>\n      <td>0.153846</td>\n    </tr>\n    <tr>\n      <th>6</th>\n      <td>Optimized</td>\n      <td>False</td>\n      <td>Summer</td>\n      <td>2025.0</td>\n      <td>33.0</td>\n      <td>379.21</td>\n      <td>117.0</td>\n      <td>175.0</td>\n      <td>401.0</td>\n      <td>328.0</td>\n      <td>493.0</td>\n      <td>586.0</td>\n      <td>0.212121</td>\n      <td>0.121212</td>\n      <td>0.666667</td>\n      <td>0.666667</td>\n      <td>0.333333</td>\n      <td>0.000000</td>\n    </tr>\n    <tr>\n      <th>7</th>\n      <td>Optimized</td>\n      <td>True</td>\n      <td>Summer</td>\n      <td>2025.0</td>\n      <td>33.0</td>\n      <td>379.21</td>\n      <td>82.0</td>\n      <td>123.0</td>\n      <td>321.0</td>\n      <td>230.0</td>\n      <td>345.0</td>\n      <td>470.0</td>\n      <td>0.151515</td>\n      <td>0.060606</td>\n      <td>0.454545</td>\n      <td>0.363636</td>\n      <td>0.424242</td>\n      <td>0.212121</td>\n    </tr>\n    <tr>\n      <th>8</th>\n      <td>Existing</td>\n      <td>False</td>\n      <td>Summer</td>\n      <td>2030.0</td>\n      <td>26.0</td>\n      <td>776.40</td>\n      <td>146.0</td>\n      <td>219.0</td>\n      <td>614.0</td>\n      <td>409.0</td>\n      <td>614.0</td>\n      <td>898.0</td>\n      <td>0.269231</td>\n      <td>0.153846</td>\n      <td>0.500000</td>\n      <td>0.730769</td>\n      <td>0.192308</td>\n      <td>0.076923</td>\n    </tr>\n    <tr>\n      <th>9</th>\n      <td>Existing</td>\n      <td>True</td>\n      <td>Summer</td>\n      <td>2030.0</td>\n      <td>26.0</td>\n      <td>776.40</td>\n      <td>102.0</td>\n      <td>153.0</td>\n      <td>492.0</td>\n      <td>287.0</td>\n      <td>430.0</td>\n      <td>720.0</td>\n      <td>0.230769</td>\n      <td>0.038462</td>\n      <td>0.500000</td>\n      <td>0.423077</td>\n      <td>0.307692</td>\n      <td>0.192308</td>\n    </tr>\n    <tr>\n      <th>10</th>\n      <td>Optimized</td>\n      <td>False</td>\n      <td>Summer</td>\n      <td>2030.0</td>\n      <td>33.0</td>\n      <td>379.21</td>\n      <td>146.0</td>\n      <td>219.0</td>\n      <td>614.0</td>\n      <td>409.0</td>\n      <td>614.0</td>\n      <td>898.0</td>\n      <td>0.212121</td>\n      <td>0.151515</td>\n      <td>0.636364</td>\n      <td>1.000000</td>\n      <td>0.000000</td>\n      <td>0.000000</td>\n    </tr>\n    <tr>\n      <th>11</th>\n      <td>Optimized</td>\n      <td>True</td>\n      <td>Summer</td>\n      <td>2030.0</td>\n      <td>33.0</td>\n      <td>379.21</td>\n      <td>102.0</td>\n      <td>153.0</td>\n      <td>492.0</td>\n      <td>287.0</td>\n      <td>430.0</td>\n      <td>720.0</td>\n      <td>0.181818</td>\n      <td>0.060606</td>\n      <td>0.757576</td>\n      <td>0.424242</td>\n      <td>0.575758</td>\n      <td>0.000000</td>\n    </tr>\n    <tr>\n      <th>12</th>\n      <td>Existing</td>\n      <td>False</td>\n      <td>Winter</td>\n      <td>2022.0</td>\n      <td>19.0</td>\n      <td>776.40</td>\n      <td>102.0</td>\n      <td>153.0</td>\n      <td>278.0</td>\n      <td>286.0</td>\n      <td>430.0</td>\n      <td>406.0</td>\n      <td>0.315789</td>\n      <td>0.000000</td>\n      <td>0.210526</td>\n      <td>0.526316</td>\n      <td>0.210526</td>\n      <td>0.000000</td>\n    </tr>\n    <tr>\n      <th>13</th>\n      <td>Existing</td>\n      <td>True</td>\n      <td>Winter</td>\n      <td>2022.0</td>\n      <td>19.0</td>\n      <td>776.40</td>\n      <td>71.0</td>\n      <td>107.0</td>\n      <td>223.0</td>\n      <td>201.0</td>\n      <td>301.0</td>\n      <td>325.0</td>\n      <td>0.210526</td>\n      <td>0.105263</td>\n      <td>0.210526</td>\n      <td>0.526316</td>\n      <td>0.000000</td>\n      <td>0.000000</td>\n    </tr>\n    <tr>\n      <th>14</th>\n      <td>Optimized</td>\n      <td>False</td>\n      <td>Winter</td>\n      <td>2022.0</td>\n      <td>24.0</td>\n      <td>367.41</td>\n      <td>102.0</td>\n      <td>153.0</td>\n      <td>278.0</td>\n      <td>286.0</td>\n      <td>430.0</td>\n      <td>406.0</td>\n      <td>0.250000</td>\n      <td>0.000000</td>\n      <td>0.250000</td>\n      <td>0.500000</td>\n      <td>0.500000</td>\n      <td>0.000000</td>\n    </tr>\n    <tr>\n      <th>15</th>\n      <td>Optimized</td>\n      <td>True</td>\n      <td>Winter</td>\n      <td>2022.0</td>\n      <td>24.0</td>\n      <td>367.41</td>\n      <td>71.0</td>\n      <td>107.0</td>\n      <td>223.0</td>\n      <td>201.0</td>\n      <td>301.0</td>\n      <td>325.0</td>\n      <td>0.166667</td>\n      <td>0.083333</td>\n      <td>0.166667</td>\n      <td>0.416667</td>\n      <td>0.083333</td>\n      <td>0.166667</td>\n    </tr>\n    <tr>\n      <th>16</th>\n      <td>Existing</td>\n      <td>False</td>\n      <td>Winter</td>\n      <td>2025.0</td>\n      <td>19.0</td>\n      <td>776.40</td>\n      <td>117.0</td>\n      <td>175.0</td>\n      <td>401.0</td>\n      <td>328.0</td>\n      <td>493.0</td>\n      <td>586.0</td>\n      <td>0.315789</td>\n      <td>0.157895</td>\n      <td>0.263158</td>\n      <td>0.526316</td>\n      <td>0.210526</td>\n      <td>0.052632</td>\n    </tr>\n    <tr>\n      <th>17</th>\n      <td>Existing</td>\n      <td>True</td>\n      <td>Winter</td>\n      <td>2025.0</td>\n      <td>19.0</td>\n      <td>776.40</td>\n      <td>82.0</td>\n      <td>123.0</td>\n      <td>321.0</td>\n      <td>230.0</td>\n      <td>345.0</td>\n      <td>470.0</td>\n      <td>0.263158</td>\n      <td>0.052632</td>\n      <td>0.210526</td>\n      <td>0.526316</td>\n      <td>0.210526</td>\n      <td>0.000000</td>\n    </tr>\n    <tr>\n      <th>18</th>\n      <td>Optimized</td>\n      <td>False</td>\n      <td>Winter</td>\n      <td>2025.0</td>\n      <td>24.0</td>\n      <td>367.41</td>\n      <td>117.0</td>\n      <td>175.0</td>\n      <td>401.0</td>\n      <td>328.0</td>\n      <td>493.0</td>\n      <td>586.0</td>\n      <td>0.250000</td>\n      <td>0.125000</td>\n      <td>0.625000</td>\n      <td>0.666667</td>\n      <td>0.333333</td>\n      <td>0.000000</td>\n    </tr>\n    <tr>\n      <th>19</th>\n      <td>Optimized</td>\n      <td>True</td>\n      <td>Winter</td>\n      <td>2025.0</td>\n      <td>24.0</td>\n      <td>367.41</td>\n      <td>82.0</td>\n      <td>123.0</td>\n      <td>321.0</td>\n      <td>230.0</td>\n      <td>345.0</td>\n      <td>470.0</td>\n      <td>0.208333</td>\n      <td>0.041667</td>\n      <td>0.416667</td>\n      <td>0.416667</td>\n      <td>0.416667</td>\n      <td>0.166667</td>\n    </tr>\n    <tr>\n      <th>20</th>\n      <td>Existing</td>\n      <td>False</td>\n      <td>Winter</td>\n      <td>2030.0</td>\n      <td>19.0</td>\n      <td>776.40</td>\n      <td>146.0</td>\n      <td>219.0</td>\n      <td>614.0</td>\n      <td>409.0</td>\n      <td>614.0</td>\n      <td>898.0</td>\n      <td>0.315789</td>\n      <td>0.210526</td>\n      <td>0.368421</td>\n      <td>0.736842</td>\n      <td>0.157895</td>\n      <td>0.105263</td>\n    </tr>\n    <tr>\n      <th>21</th>\n      <td>Existing</td>\n      <td>True</td>\n      <td>Winter</td>\n      <td>2030.0</td>\n      <td>19.0</td>\n      <td>776.40</td>\n      <td>102.0</td>\n      <td>153.0</td>\n      <td>492.0</td>\n      <td>287.0</td>\n      <td>430.0</td>\n      <td>720.0</td>\n      <td>0.315789</td>\n      <td>0.000000</td>\n      <td>0.421053</td>\n      <td>0.526316</td>\n      <td>0.210526</td>\n      <td>0.157895</td>\n    </tr>\n    <tr>\n      <th>22</th>\n      <td>Optimized</td>\n      <td>False</td>\n      <td>Winter</td>\n      <td>2030.0</td>\n      <td>24.0</td>\n      <td>367.41</td>\n      <td>146.0</td>\n      <td>219.0</td>\n      <td>614.0</td>\n      <td>409.0</td>\n      <td>614.0</td>\n      <td>898.0</td>\n      <td>0.250000</td>\n      <td>0.166667</td>\n      <td>0.583333</td>\n      <td>1.000000</td>\n      <td>0.000000</td>\n      <td>0.000000</td>\n    </tr>\n    <tr>\n      <th>23</th>\n      <td>Optimized</td>\n      <td>True</td>\n      <td>Winter</td>\n      <td>2030.0</td>\n      <td>24.0</td>\n      <td>367.41</td>\n      <td>102.0</td>\n      <td>153.0</td>\n      <td>492.0</td>\n      <td>287.0</td>\n      <td>430.0</td>\n      <td>720.0</td>\n      <td>0.250000</td>\n      <td>0.000000</td>\n      <td>0.750000</td>\n      <td>0.500000</td>\n      <td>0.500000</td>\n      <td>0.000000</td>\n    </tr>\n  </tbody>\n</table>\n</div>"
     },
     "execution_count": 11,
     "metadata": {},
     "output_type": "execute_result"
    }
   ],
   "source": [
    "df = pd.DataFrame()\n",
    "i = 0\n",
    "for scenario in scenario_objs:\n",
    "    df.loc[i, 'Block Scenario'] = scenario.block_scenario\n",
    "    df.loc[i, 'Degradation'] = scenario.degradation\n",
    "    df.loc[i, 'Schedule'] = scenario.schedule\n",
    "    df.loc[i, 'Technology'] = scenario.year\n",
    "\n",
    "    label = 'Total kms/day'\n",
    "    if scenario.schedule == 'Summer':\n",
    "        if scenario.block_scenario == 'Existing':\n",
    "            blocks = summer_blocks22\n",
    "            min_composition = scenario.bus_types(blocks, label, 'min' )\n",
    "            max_composition = scenario.bus_types(blocks, label, 'max' )\n",
    "            max_length = max(blocks[label])\n",
    "        elif scenario.block_scenario == 'Optimized':\n",
    "            blocks = summer_blocks22_regroup\n",
    "            min_composition = scenario.bus_types(blocks, label, 'min' )\n",
    "            max_composition = scenario.bus_types(blocks, label, 'max' )\n",
    "            max_length = max(blocks[label])\n",
    "\n",
    "    if scenario.schedule == 'Winter':\n",
    "        if scenario.block_scenario == 'Existing':\n",
    "            blocks = winter_blocks22\n",
    "            min_composition = scenario.bus_types(blocks, label, 'min' )\n",
    "            max_composition = scenario.bus_types(blocks, label, 'max' )\n",
    "            max_length = max(blocks[label])\n",
    "        elif scenario.block_scenario == 'Optimized':\n",
    "            blocks = winter_blocks22_optimized\n",
    "            min_composition = scenario.bus_types(blocks, label, 'min' )\n",
    "            max_composition = scenario.bus_types(blocks, label, 'max' )\n",
    "            max_length = max(blocks[label])\n",
    "\n",
    "    df.loc[i, 'Number of Blocks'] = len(min_composition)\n",
    "    df.loc[i, 'Max Block Length'] = max_length\n",
    "    df.loc[i, 'BEB Small Min'] = scenario.bus_ranges[scenario.bus_selection['BEB 492 kWh']]['min']\n",
    "    df.loc[i, 'BEB Large Min'] = scenario.bus_ranges[scenario.bus_selection['BEB 738 kWh']]['min']\n",
    "    df.loc[i, 'FCEB Min'] = scenario.bus_ranges[scenario.bus_selection['FCEB']]['min']\n",
    "    df.loc[i, 'BEB Small Max'] = scenario.bus_ranges[scenario.bus_selection['BEB 492 kWh']]['max']\n",
    "    df.loc[i, 'BEB Large Max'] = scenario.bus_ranges[scenario.bus_selection['BEB 738 kWh']]['max']\n",
    "    df.loc[i, 'FCEB Max'] = scenario.bus_ranges[scenario.bus_selection['FCEB']]['max']\n",
    "    try:\n",
    "        df.loc[i, '% BEB Small Min'] = min_composition.value_counts()['BEB 492 kWh'] / df.loc[i, 'Number of Blocks']\n",
    "    except:\n",
    "        df.loc[i, '% BEB Small Min'] = 0\n",
    "    try:\n",
    "        df.loc[i, '% BEB Large Min'] = min_composition.value_counts()['BEB 738 kWh'] / df.loc[i, 'Number of Blocks']\n",
    "    except:\n",
    "        df.loc[i, '% BEB Large Min'] = 0\n",
    "    try:\n",
    "        df.loc[i, '% FCEB Min'] = min_composition.value_counts()['FCEB'] / df.loc[i, 'Number of Blocks']\n",
    "    except:\n",
    "        df.loc[i, '% FCEB Min'] = 0\n",
    "    df.loc[i, '% BEB Small Max'] = max_composition.value_counts()['BEB 492 kWh'] / df.loc[i, 'Number of Blocks']\n",
    "    try:\n",
    "        df.loc[i, '% BEB Large Max'] = max_composition.value_counts()['BEB 738 kWh'] / df.loc[i, 'Number of Blocks']\n",
    "    except:\n",
    "        df.loc[i, '% BEB Large Max'] = 0\n",
    "    try:\n",
    "        df.loc[i, '% FCEB Max'] = max_composition.value_counts()['FCEB'] / df.loc[i, 'Number of Blocks']\n",
    "    except:\n",
    "         df.loc[i, '% FCEB Max'] = 0\n",
    "    i += 1\n",
    "df"
   ],
   "metadata": {
    "collapsed": false,
    "pycharm": {
     "name": "#%%\n"
    }
   }
  },
  {
   "cell_type": "code",
   "execution_count": 13,
   "outputs": [],
   "source": [
    "df.to_excel('../data/fleet_comp/scenario_matrix.xlsx')\n",
    "df.to_excel(r'C:\\Users\\tdickens\\OneDrive - Hydrogen Technology and Engineering Corporation\\Active Customers\\ETS\\08 - Fleet Transition Plans\\Roam\\06 Route Analysis\\scenario_matrix.xlsx')"
   ],
   "metadata": {
    "collapsed": false,
    "pycharm": {
     "name": "#%%\n"
    }
   }
  }
 ],
 "metadata": {
  "kernelspec": {
   "display_name": "Python 3",
   "language": "python",
   "name": "python3"
  },
  "language_info": {
   "codemirror_mode": {
    "name": "ipython",
    "version": 2
   },
   "file_extension": ".py",
   "mimetype": "text/x-python",
   "name": "python",
   "nbconvert_exporter": "python",
   "pygments_lexer": "ipython2",
   "version": "2.7.6"
  }
 },
 "nbformat": 4,
 "nbformat_minor": 0
}