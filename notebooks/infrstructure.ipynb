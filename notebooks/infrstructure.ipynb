{
 "cells": [
  {
   "cell_type": "code",
   "execution_count": 36,
   "metadata": {
    "collapsed": true,
    "pycharm": {
     "name": "#%%\n"
    }
   },
   "outputs": [],
   "source": [
    "import pandas as pd\n",
    "import numpy as np\n",
    "import matplotlib.pyplot as plt\n",
    "import seaborn as sns"
   ]
  },
  {
   "cell_type": "code",
   "execution_count": 42,
   "outputs": [],
   "source": [
    "START_YR = 2022\n",
    "END_YR = 2050\n",
    "year_arr = range(START_YR,END_YR,1)\n",
    "\n",
    "BEB_KWH_AVE = 345.9 #kWh/day BEB consumption average\n",
    "BEB_KWH_MAX = 460.5  #kWh/day BEB consumption max\n",
    "FCEB_KG_H2_AVE = 18.17 #kg-h2/day consumption average\n",
    "FCEB_KG_H2_MAX = 21.35 #kg-h2/day consumption max\n",
    "\n",
    "DAILY_MILEAGE_BEB1 = 98 #km/day per BEB\n",
    "DAILY_MILEAGE_BEB2 = 98 #km/day per BEB\n",
    "DAILY_MILEAGE_FCEB = 98 #km/day per FCEB\n",
    "DAILY_MILEAGE_DIESEL = 98\n",
    "\n",
    "FUEL_COST_DIESEL = 1.48 # $/L\n",
    "FUEL_COST_ELEC = 0.36 # $/kWh\n",
    "FUEL_COST_H2 = 8.00 # $/kg-h2\n",
    "\n",
    "FUEL_ECO_DIESEL = 0.47 # L-diesel/km\n",
    "FUEL_ECO_ELEC_AVE = 1.60 # kWh/km\n",
    "FUEL_ECO_ELEC_MAX = 2.72 # kWh/km\n",
    "FUEL_ECO_H2_AVE = 0.10 # kg-h2/km\n",
    "FUEL_ECO_H2_MAX = 0.13 # kg-h2/km"
   ],
   "metadata": {
    "collapsed": false,
    "pycharm": {
     "name": "#%%\n"
    }
   }
  },
  {
   "cell_type": "code",
   "execution_count": 38,
   "outputs": [],
   "source": [
    "diesel_buses = [22,22,21,21,20,20,20,18,16,16,16,12,8,7,4,0,0,0,0,0,0,0,0,0,0,0,0,0,]\n",
    "fc_buses = [0,0,1,1,2,2,2,4,6,6,6,10,14,15,18,21,21,21,21,21,21,21,21,21,21,21,21,21,]\n",
    "elec_buses1 = [1,1,1,1,1,1,1,1,1,1,1,1,1,1,1,1,1,1,1,1,1,1,1,1,1,1,1,1,]\n",
    "elec_buses2 = [3,3,3,8,8,8,8,8,8,8,8,8,8,8,8,9,9,9,9,9,9,9,9,9,9,9,9,9,]"
   ],
   "metadata": {
    "collapsed": false,
    "pycharm": {
     "name": "#%%\n"
    }
   }
  },
  {
   "cell_type": "code",
   "execution_count": 39,
   "outputs": [
    {
     "data": {
      "text/plain": "      Diesel Count  BEB1 Count  BEB2 Count  FCEB Count  ZEB Count\n2022            22           1           3           0          4\n2023            22           1           3           0          4\n2024            21           1           3           1          5\n2025            21           1           8           1         10\n2026            20           1           8           2         11",
      "text/html": "<div>\n<style scoped>\n    .dataframe tbody tr th:only-of-type {\n        vertical-align: middle;\n    }\n\n    .dataframe tbody tr th {\n        vertical-align: top;\n    }\n\n    .dataframe thead th {\n        text-align: right;\n    }\n</style>\n<table border=\"1\" class=\"dataframe\">\n  <thead>\n    <tr style=\"text-align: right;\">\n      <th></th>\n      <th>Diesel Count</th>\n      <th>BEB1 Count</th>\n      <th>BEB2 Count</th>\n      <th>FCEB Count</th>\n      <th>ZEB Count</th>\n    </tr>\n  </thead>\n  <tbody>\n    <tr>\n      <th>2022</th>\n      <td>22</td>\n      <td>1</td>\n      <td>3</td>\n      <td>0</td>\n      <td>4</td>\n    </tr>\n    <tr>\n      <th>2023</th>\n      <td>22</td>\n      <td>1</td>\n      <td>3</td>\n      <td>0</td>\n      <td>4</td>\n    </tr>\n    <tr>\n      <th>2024</th>\n      <td>21</td>\n      <td>1</td>\n      <td>3</td>\n      <td>1</td>\n      <td>5</td>\n    </tr>\n    <tr>\n      <th>2025</th>\n      <td>21</td>\n      <td>1</td>\n      <td>8</td>\n      <td>1</td>\n      <td>10</td>\n    </tr>\n    <tr>\n      <th>2026</th>\n      <td>20</td>\n      <td>1</td>\n      <td>8</td>\n      <td>2</td>\n      <td>11</td>\n    </tr>\n  </tbody>\n</table>\n</div>"
     },
     "execution_count": 39,
     "metadata": {},
     "output_type": "execute_result"
    }
   ],
   "source": [
    "fleet_dict = {\n",
    "    'Diesel Count': diesel_buses,\n",
    "    'BEB1 Count': elec_buses1,\n",
    "    'BEB2 Count': elec_buses2,\n",
    "    'FCEB Count': fc_buses\n",
    "}\n",
    "fleet_comp = pd.DataFrame(fleet_dict, index=year_arr)\n",
    "fleet_comp['ZEB Count'] = fleet_comp['BEB1 Count']+ fleet_comp['BEB2 Count'] + fleet_comp['FCEB Count']\n",
    "fleet_comp.head()"
   ],
   "metadata": {
    "collapsed": false,
    "pycharm": {
     "name": "#%%\n"
    }
   }
  },
  {
   "cell_type": "code",
   "execution_count": 43,
   "outputs": [
    {
     "data": {
      "text/plain": "      Diesel Count  BEB1 Count  BEB2 Count  FCEB Count  ZEB Count  \\\n2022            22           1           3           0          4   \n2023            22           1           3           0          4   \n2024            21           1           3           1          5   \n2025            21           1           8           1         10   \n2026            20           1           8           2         11   \n\n      Diesel Consumption  BEB Ave Consumption  FCEB Ave Consumption  \\\n2022             1013.32                627.2                   0.0   \n2023             1013.32                627.2                   0.0   \n2024              967.26                627.2                   9.8   \n2025              967.26               1411.2                   9.8   \n2026              921.20               1411.2                  19.6   \n\n      Diesel Fuel Cost  BEB Ave Fuel Cost  FCEB Ave Fuel Cost  \\\n2022         1499.7136            225.792                 0.0   \n2023         1499.7136            225.792                 0.0   \n2024         1431.5448            225.792                78.4   \n2025         1431.5448            508.032                78.4   \n2026         1363.3760            508.032               156.8   \n\n      BEB Max Consumption  FCEB Max Consumption  BEB Max Fuel Cost  \\\n2022              1066.24                  0.00           383.8464   \n2023              1066.24                  0.00           383.8464   \n2024              1066.24                 12.74           383.8464   \n2025              2399.04                 12.74           863.6544   \n2026              2399.04                 25.48           863.6544   \n\n      FCEB Max Fuel Cost  \n2022                0.00  \n2023                0.00  \n2024              101.92  \n2025              101.92  \n2026              203.84  ",
      "text/html": "<div>\n<style scoped>\n    .dataframe tbody tr th:only-of-type {\n        vertical-align: middle;\n    }\n\n    .dataframe tbody tr th {\n        vertical-align: top;\n    }\n\n    .dataframe thead th {\n        text-align: right;\n    }\n</style>\n<table border=\"1\" class=\"dataframe\">\n  <thead>\n    <tr style=\"text-align: right;\">\n      <th></th>\n      <th>Diesel Count</th>\n      <th>BEB1 Count</th>\n      <th>BEB2 Count</th>\n      <th>FCEB Count</th>\n      <th>ZEB Count</th>\n      <th>Diesel Consumption</th>\n      <th>BEB Ave Consumption</th>\n      <th>FCEB Ave Consumption</th>\n      <th>Diesel Fuel Cost</th>\n      <th>BEB Ave Fuel Cost</th>\n      <th>FCEB Ave Fuel Cost</th>\n      <th>BEB Max Consumption</th>\n      <th>FCEB Max Consumption</th>\n      <th>BEB Max Fuel Cost</th>\n      <th>FCEB Max Fuel Cost</th>\n    </tr>\n  </thead>\n  <tbody>\n    <tr>\n      <th>2022</th>\n      <td>22</td>\n      <td>1</td>\n      <td>3</td>\n      <td>0</td>\n      <td>4</td>\n      <td>1013.32</td>\n      <td>627.2</td>\n      <td>0.0</td>\n      <td>1499.7136</td>\n      <td>225.792</td>\n      <td>0.0</td>\n      <td>1066.24</td>\n      <td>0.00</td>\n      <td>383.8464</td>\n      <td>0.00</td>\n    </tr>\n    <tr>\n      <th>2023</th>\n      <td>22</td>\n      <td>1</td>\n      <td>3</td>\n      <td>0</td>\n      <td>4</td>\n      <td>1013.32</td>\n      <td>627.2</td>\n      <td>0.0</td>\n      <td>1499.7136</td>\n      <td>225.792</td>\n      <td>0.0</td>\n      <td>1066.24</td>\n      <td>0.00</td>\n      <td>383.8464</td>\n      <td>0.00</td>\n    </tr>\n    <tr>\n      <th>2024</th>\n      <td>21</td>\n      <td>1</td>\n      <td>3</td>\n      <td>1</td>\n      <td>5</td>\n      <td>967.26</td>\n      <td>627.2</td>\n      <td>9.8</td>\n      <td>1431.5448</td>\n      <td>225.792</td>\n      <td>78.4</td>\n      <td>1066.24</td>\n      <td>12.74</td>\n      <td>383.8464</td>\n      <td>101.92</td>\n    </tr>\n    <tr>\n      <th>2025</th>\n      <td>21</td>\n      <td>1</td>\n      <td>8</td>\n      <td>1</td>\n      <td>10</td>\n      <td>967.26</td>\n      <td>1411.2</td>\n      <td>9.8</td>\n      <td>1431.5448</td>\n      <td>508.032</td>\n      <td>78.4</td>\n      <td>2399.04</td>\n      <td>12.74</td>\n      <td>863.6544</td>\n      <td>101.92</td>\n    </tr>\n    <tr>\n      <th>2026</th>\n      <td>20</td>\n      <td>1</td>\n      <td>8</td>\n      <td>2</td>\n      <td>11</td>\n      <td>921.20</td>\n      <td>1411.2</td>\n      <td>19.6</td>\n      <td>1363.3760</td>\n      <td>508.032</td>\n      <td>156.8</td>\n      <td>2399.04</td>\n      <td>25.48</td>\n      <td>863.6544</td>\n      <td>203.84</td>\n    </tr>\n  </tbody>\n</table>\n</div>"
     },
     "execution_count": 43,
     "metadata": {},
     "output_type": "execute_result"
    }
   ],
   "source": [
    "fleet_comp['Diesel Consumption'] = fleet_comp['Diesel Count'] * DAILY_MILEAGE_DIESEL * FUEL_ECO_DIESEL\n",
    "fleet_comp['BEB Ave Consumption'] = fleet_comp['BEB1 Count'] *  DAILY_MILEAGE_BEB1 * FUEL_ECO_ELEC_AVE + fleet_comp['BEB2 Count'] *  DAILY_MILEAGE_BEB2 * FUEL_ECO_ELEC_AVE\n",
    "fleet_comp['FCEB Ave Consumption'] = fleet_comp['FCEB Count'] * DAILY_MILEAGE_FCEB * FUEL_ECO_H2_AVE\n",
    "\n",
    "fleet_comp['Diesel Fuel Cost'] = fleet_comp['Diesel Consumption'] * FUEL_COST_DIESEL\n",
    "fleet_comp['BEB Ave Fuel Cost'] = fleet_comp['BEB Ave Consumption'] * FUEL_COST_ELEC\n",
    "fleet_comp['FCEB Ave Fuel Cost'] = fleet_comp['FCEB Ave Consumption'] * FUEL_COST_H2\n",
    "\n",
    "fleet_comp['BEB Max Consumption'] = fleet_comp['BEB1 Count'] *  DAILY_MILEAGE_BEB1 * FUEL_ECO_ELEC_MAX + fleet_comp['BEB2 Count'] *  DAILY_MILEAGE_BEB2 * FUEL_ECO_ELEC_MAX\n",
    "fleet_comp['FCEB Max Consumption'] = fleet_comp['FCEB Count'] *  DAILY_MILEAGE_FCEB * FUEL_ECO_H2_MAX\n",
    "\n",
    "fleet_comp['BEB Max Fuel Cost'] = fleet_comp['BEB Max Consumption'] * FUEL_COST_ELEC\n",
    "fleet_comp['FCEB Max Fuel Cost'] = fleet_comp['FCEB Max Consumption'] * FUEL_COST_H2\n",
    "fleet_comp.head()"
   ],
   "metadata": {
    "collapsed": false,
    "pycharm": {
     "name": "#%%\n"
    }
   }
  },
  {
   "cell_type": "code",
   "execution_count": 51,
   "outputs": [
    {
     "data": {
      "text/plain": "<Figure size 432x288 with 1 Axes>",
      "image/png": "[encoded data removed]"
     },
     "metadata": {},
     "output_type": "display_data"
    }
   ],
   "source": [
    "plt.plot(fleet_comp.index, fleet_comp['FCEB Count'])\n",
    "plt.plot(fleet_comp.index, fleet_comp['BEB2 Count'])\n",
    "plt.plot(fleet_comp.index, fleet_comp['Diesel Count'])\n",
    "plt.xlabel('Year')\n",
    "plt.ylabel('No. Buses')\n",
    "plt.show()"
   ],
   "metadata": {
    "collapsed": false,
    "pycharm": {
     "name": "#%%\n"
    }
   }
  },
  {
   "cell_type": "code",
   "execution_count": 1,
   "outputs": [
    {
     "name": "stdout",
     "output_type": "stream",
     "text": [
      "WE NEED \n",
      "\n",
      " TO LEARN PYTHON \n",
      "\n",
      " AS QUICKLY AS POSSIBLE\n"
     ]
    }
   ],
   "source": [
    "print(\"WE NEED \\n\\n TO LEARN PYTHON \\n\\n AS QUICKLY AS POSSIBLE\")"
   ],
   "metadata": {
    "collapsed": false,
    "pycharm": {
     "name": "#%%\n"
    }
   }
  }
 ],
 "metadata": {
  "kernelspec": {
   "display_name": "Python 3",
   "language": "python",
   "name": "python3"
  },
  "language_info": {
   "codemirror_mode": {
    "name": "ipython",
    "version": 2
   },
   "file_extension": ".py",
   "mimetype": "text/x-python",
   "name": "python",
   "nbconvert_exporter": "python",
   "pygments_lexer": "ipython2",
   "version": "2.7.6"
  }
 },
 "nbformat": 4,
 "nbformat_minor": 0
}