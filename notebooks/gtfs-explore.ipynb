{
 "cells": [
  {
   "cell_type": "code",
   "execution_count": 131,
   "metadata": {
    "collapsed": true,
    "pycharm": {
     "name": "#%%\n"
    }
   },
   "outputs": [],
   "source": [
    "import numpy as np\n",
    "import pandas as pd\n",
    "import matplotlib.pyplot as plt\n",
    "import shapely as sp\n",
    "import gtfs_functions as gtfs"
   ]
  },
  {
   "cell_type": "code",
   "execution_count": 132,
   "outputs": [
    {
     "name": "stdout",
     "output_type": "stream",
     "text": [
      "../data/gtfs-2022-04-12\n"
     ]
    }
   ],
   "source": [
    "# DIRECTORY = '../data/gtfs'\n",
    "DIRECTORY = input('Enter location of directory (no end slash or quotes)')\n",
    "while (DIRECTORY[-1] == \"/\") or (DIRECTORY[-1] == \"\\\\\") or (DIRECTORY[-1] == \"'\") or (DIRECTORY[-1] == '\"'):\n",
    "       DIRECTORY = input('Enter location of directory (no end slash or quotes)')\n",
    "print(DIRECTORY)"
   ],
   "metadata": {
    "collapsed": false,
    "pycharm": {
     "name": "#%%\n"
    }
   }
  },
  {
   "cell_type": "code",
   "execution_count": 133,
   "outputs": [],
   "source": [
    "calendar = pd.read_csv('{}/calendar.txt'.format(DIRECTORY))\n",
    "calendar_attrs = pd.read_csv('{}/calendar_attributes.txt'.format(DIRECTORY))\n",
    "directions = pd.read_csv('{}/directions.txt'.format(DIRECTORY))\n",
    "feed_info = pd.read_csv('{}/feed_info.txt'.format(DIRECTORY))\n",
    "rider_cats = pd.read_csv('{}/rider_categories.txt'.format(DIRECTORY))\n",
    "routes = pd.read_csv('{}/routes.txt'.format(DIRECTORY))\n",
    "runcut = pd.read_csv('{}/runcut.txt'.format(DIRECTORY))\n",
    "shapes = pd.read_csv('{}/shapes.txt'.format(DIRECTORY))\n",
    "stops = pd.read_csv('{}/stops.txt'.format(DIRECTORY))\n",
    "stop_attrs = pd.read_csv('{}/stop_attributes.txt'.format(DIRECTORY))\n",
    "stop_times = pd.read_csv('{}/stop_times.txt'.format(DIRECTORY))\n",
    "trips = pd.read_csv('{}/trips.txt'.format(DIRECTORY))"
   ],
   "metadata": {
    "collapsed": false,
    "pycharm": {
     "name": "#%%\n"
    }
   }
  },
  {
   "cell_type": "code",
   "execution_count": 134,
   "outputs": [],
   "source": [
    "date = str(feed_info.feed_start_date[0])\n",
    "date = date[:4] + '-' + date[4:6] + '-' + date[6:8]\n",
    "FILENAME = 'gtfs-' + date"
   ],
   "metadata": {
    "collapsed": false,
    "pycharm": {
     "name": "#%%\n"
    }
   }
  },
  {
   "cell_type": "code",
   "execution_count": 135,
   "outputs": [
    {
     "data": {
      "text/plain": "    shape_id  shape_pt_lat  shape_pt_lon  shape_pt_sequence  \\\n0  p_1277992     51.188892   -115.541962                  1   \n1  p_1277992     51.188892   -115.542145                  2   \n2  p_1277992     51.188885   -115.542305                  3   \n3  p_1277992     51.188866   -115.542519                  4   \n4  p_1277992     51.188816   -115.542793                  5   \n\n   shape_dist_traveled  \n0             0.000000  \n1            12.793945  \n2            24.006984  \n3            39.116798  \n4            59.064081  ",
      "text/html": "<div>\n<style scoped>\n    .dataframe tbody tr th:only-of-type {\n        vertical-align: middle;\n    }\n\n    .dataframe tbody tr th {\n        vertical-align: top;\n    }\n\n    .dataframe thead th {\n        text-align: right;\n    }\n</style>\n<table border=\"1\" class=\"dataframe\">\n  <thead>\n    <tr style=\"text-align: right;\">\n      <th></th>\n      <th>shape_id</th>\n      <th>shape_pt_lat</th>\n      <th>shape_pt_lon</th>\n      <th>shape_pt_sequence</th>\n      <th>shape_dist_traveled</th>\n    </tr>\n  </thead>\n  <tbody>\n    <tr>\n      <th>0</th>\n      <td>p_1277992</td>\n      <td>51.188892</td>\n      <td>-115.541962</td>\n      <td>1</td>\n      <td>0.000000</td>\n    </tr>\n    <tr>\n      <th>1</th>\n      <td>p_1277992</td>\n      <td>51.188892</td>\n      <td>-115.542145</td>\n      <td>2</td>\n      <td>12.793945</td>\n    </tr>\n    <tr>\n      <th>2</th>\n      <td>p_1277992</td>\n      <td>51.188885</td>\n      <td>-115.542305</td>\n      <td>3</td>\n      <td>24.006984</td>\n    </tr>\n    <tr>\n      <th>3</th>\n      <td>p_1277992</td>\n      <td>51.188866</td>\n      <td>-115.542519</td>\n      <td>4</td>\n      <td>39.116798</td>\n    </tr>\n    <tr>\n      <th>4</th>\n      <td>p_1277992</td>\n      <td>51.188816</td>\n      <td>-115.542793</td>\n      <td>5</td>\n      <td>59.064081</td>\n    </tr>\n  </tbody>\n</table>\n</div>"
     },
     "execution_count": 135,
     "metadata": {},
     "output_type": "execute_result"
    }
   ],
   "source": [
    "shapes.head()"
   ],
   "metadata": {
    "collapsed": false,
    "pycharm": {
     "name": "#%%\n"
    }
   }
  },
  {
   "cell_type": "code",
   "execution_count": 136,
   "outputs": [
    {
     "data": {
      "text/plain": "   route_id             service_id                trip_id  trip_short_name  \\\n0     12635  c_17992_b_22458_d_127  t_871411_b_22458_tn_2              NaN   \n1     12635  c_17992_b_22458_d_127  t_871417_b_22458_tn_0              NaN   \n2     12635  c_17992_b_22458_d_127  t_871412_b_22458_tn_2              NaN   \n3     12635  c_17992_b_22458_d_127  t_871412_b_22458_tn_1              NaN   \n4     12635  c_17992_b_22458_d_127  t_871410_b_22458_tn_1              NaN   \n\n  trip_headsign  direction_id block_id  shape_id  bikes_allowed  \\\n0   Lake Louise             0       8X  p_787691            NaN   \n1   Lake Louise             0       8X  p_787691            NaN   \n2   Lake Louise             0       8X  p_787691            NaN   \n3   Lake Louise             0       8X  p_787691            NaN   \n4   Lake Louise             0       8X  p_787691            NaN   \n\n   wheelchair_accessible  trip_type drt_max_travel_time drt_avg_travel_time  \\\n0                    NaN        NaN                 NaN                 NaN   \n1                    NaN        NaN                 NaN                 NaN   \n2                    NaN        NaN                 NaN                 NaN   \n3                    NaN        NaN                 NaN                 NaN   \n4                    NaN        NaN                 NaN                 NaN   \n\n   drt_advance_book_min  drt_pickup_message  drt_drop_off_message  \\\n0                   NaN                 NaN                   NaN   \n1                   NaN                 NaN                   NaN   \n2                   NaN                 NaN                   NaN   \n3                   NaN                 NaN                   NaN   \n4                   NaN                 NaN                   NaN   \n\n   continuous_pickup_message  continuous_drop_off_message  tts_trip_headsign  \\\n0                        NaN                          NaN                NaN   \n1                        NaN                          NaN                NaN   \n2                        NaN                          NaN                NaN   \n3                        NaN                          NaN                NaN   \n4                        NaN                          NaN                NaN   \n\n   tts_trip_short_name  \n0                  NaN  \n1                  NaN  \n2                  NaN  \n3                  NaN  \n4                  NaN  ",
      "text/html": "<div>\n<style scoped>\n    .dataframe tbody tr th:only-of-type {\n        vertical-align: middle;\n    }\n\n    .dataframe tbody tr th {\n        vertical-align: top;\n    }\n\n    .dataframe thead th {\n        text-align: right;\n    }\n</style>\n<table border=\"1\" class=\"dataframe\">\n  <thead>\n    <tr style=\"text-align: right;\">\n      <th></th>\n      <th>route_id</th>\n      <th>service_id</th>\n      <th>trip_id</th>\n      <th>trip_short_name</th>\n      <th>trip_headsign</th>\n      <th>direction_id</th>\n      <th>block_id</th>\n      <th>shape_id</th>\n      <th>bikes_allowed</th>\n      <th>wheelchair_accessible</th>\n      <th>trip_type</th>\n      <th>drt_max_travel_time</th>\n      <th>drt_avg_travel_time</th>\n      <th>drt_advance_book_min</th>\n      <th>drt_pickup_message</th>\n      <th>drt_drop_off_message</th>\n      <th>continuous_pickup_message</th>\n      <th>continuous_drop_off_message</th>\n      <th>tts_trip_headsign</th>\n      <th>tts_trip_short_name</th>\n    </tr>\n  </thead>\n  <tbody>\n    <tr>\n      <th>0</th>\n      <td>12635</td>\n      <td>c_17992_b_22458_d_127</td>\n      <td>t_871411_b_22458_tn_2</td>\n      <td>NaN</td>\n      <td>Lake Louise</td>\n      <td>0</td>\n      <td>8X</td>\n      <td>p_787691</td>\n      <td>NaN</td>\n      <td>NaN</td>\n      <td>NaN</td>\n      <td>NaN</td>\n      <td>NaN</td>\n      <td>NaN</td>\n      <td>NaN</td>\n      <td>NaN</td>\n      <td>NaN</td>\n      <td>NaN</td>\n      <td>NaN</td>\n      <td>NaN</td>\n    </tr>\n    <tr>\n      <th>1</th>\n      <td>12635</td>\n      <td>c_17992_b_22458_d_127</td>\n      <td>t_871417_b_22458_tn_0</td>\n      <td>NaN</td>\n      <td>Lake Louise</td>\n      <td>0</td>\n      <td>8X</td>\n      <td>p_787691</td>\n      <td>NaN</td>\n      <td>NaN</td>\n      <td>NaN</td>\n      <td>NaN</td>\n      <td>NaN</td>\n      <td>NaN</td>\n      <td>NaN</td>\n      <td>NaN</td>\n      <td>NaN</td>\n      <td>NaN</td>\n      <td>NaN</td>\n      <td>NaN</td>\n    </tr>\n    <tr>\n      <th>2</th>\n      <td>12635</td>\n      <td>c_17992_b_22458_d_127</td>\n      <td>t_871412_b_22458_tn_2</td>\n      <td>NaN</td>\n      <td>Lake Louise</td>\n      <td>0</td>\n      <td>8X</td>\n      <td>p_787691</td>\n      <td>NaN</td>\n      <td>NaN</td>\n      <td>NaN</td>\n      <td>NaN</td>\n      <td>NaN</td>\n      <td>NaN</td>\n      <td>NaN</td>\n      <td>NaN</td>\n      <td>NaN</td>\n      <td>NaN</td>\n      <td>NaN</td>\n      <td>NaN</td>\n    </tr>\n    <tr>\n      <th>3</th>\n      <td>12635</td>\n      <td>c_17992_b_22458_d_127</td>\n      <td>t_871412_b_22458_tn_1</td>\n      <td>NaN</td>\n      <td>Lake Louise</td>\n      <td>0</td>\n      <td>8X</td>\n      <td>p_787691</td>\n      <td>NaN</td>\n      <td>NaN</td>\n      <td>NaN</td>\n      <td>NaN</td>\n      <td>NaN</td>\n      <td>NaN</td>\n      <td>NaN</td>\n      <td>NaN</td>\n      <td>NaN</td>\n      <td>NaN</td>\n      <td>NaN</td>\n      <td>NaN</td>\n    </tr>\n    <tr>\n      <th>4</th>\n      <td>12635</td>\n      <td>c_17992_b_22458_d_127</td>\n      <td>t_871410_b_22458_tn_1</td>\n      <td>NaN</td>\n      <td>Lake Louise</td>\n      <td>0</td>\n      <td>8X</td>\n      <td>p_787691</td>\n      <td>NaN</td>\n      <td>NaN</td>\n      <td>NaN</td>\n      <td>NaN</td>\n      <td>NaN</td>\n      <td>NaN</td>\n      <td>NaN</td>\n      <td>NaN</td>\n      <td>NaN</td>\n      <td>NaN</td>\n      <td>NaN</td>\n      <td>NaN</td>\n    </tr>\n  </tbody>\n</table>\n</div>"
     },
     "execution_count": 136,
     "metadata": {},
     "output_type": "execute_result"
    }
   ],
   "source": [
    "trips.head()"
   ],
   "metadata": {
    "collapsed": false,
    "pycharm": {
     "name": "#%%\n"
    }
   }
  },
  {
   "cell_type": "code",
   "execution_count": 137,
   "outputs": [
    {
     "data": {
      "text/plain": "   agency_id  route_id route_short_name                    route_long_name  \\\n0        782     33007               5C            Route 5C - Cougar Creek   \n1        782     33008               5T           Route 5T - Three Sisters   \n2        782      9507                1         Route 1 - Sulphur Mountain   \n3        782      9506                2          Route 2 - Tunnel Mountain   \n4        782      9505                3  Route 3 -  Canmore/Banff Regional   \n\n                                          route_desc  route_type  route_url  \\\n0  Route 5C provides local service within Canmore...           3        NaN   \n1  Route 5T provides local service within Canmore...           3        NaN   \n2  Roam Route 1 provides service from the top of ...           3        NaN   \n3  Roam Route 2 provides service from the top of ...           3        NaN   \n4  Roam Route 3 provides regional service between...           3        NaN   \n\n  route_color route_text_color  route_sort_order  min_headway_minutes  \\\n0      b288b9           000000                 0                   30   \n1      4c12a1           FFFFFF                 0                   30   \n2      336611           FFFFFF                 0                   40   \n3      00afd7           FFFFFF                 1                   40   \n4      ee2737           FFFFFF                 2                   60   \n\n   eligibility_restricted  continuous_pickup  continuous_drop_off  \\\n0                       0                  1                    1   \n1                       0                  1                    1   \n2                       0                  1                    1   \n3                       0                  1                    1   \n4                       0                  1                    1   \n\n   tts_route_short_name  tts_route_long_name  \n0                   NaN                  NaN  \n1                   NaN                  NaN  \n2                   NaN                  NaN  \n3                   NaN                  NaN  \n4                   NaN                  NaN  ",
      "text/html": "<div>\n<style scoped>\n    .dataframe tbody tr th:only-of-type {\n        vertical-align: middle;\n    }\n\n    .dataframe tbody tr th {\n        vertical-align: top;\n    }\n\n    .dataframe thead th {\n        text-align: right;\n    }\n</style>\n<table border=\"1\" class=\"dataframe\">\n  <thead>\n    <tr style=\"text-align: right;\">\n      <th></th>\n      <th>agency_id</th>\n      <th>route_id</th>\n      <th>route_short_name</th>\n      <th>route_long_name</th>\n      <th>route_desc</th>\n      <th>route_type</th>\n      <th>route_url</th>\n      <th>route_color</th>\n      <th>route_text_color</th>\n      <th>route_sort_order</th>\n      <th>min_headway_minutes</th>\n      <th>eligibility_restricted</th>\n      <th>continuous_pickup</th>\n      <th>continuous_drop_off</th>\n      <th>tts_route_short_name</th>\n      <th>tts_route_long_name</th>\n    </tr>\n  </thead>\n  <tbody>\n    <tr>\n      <th>0</th>\n      <td>782</td>\n      <td>33007</td>\n      <td>5C</td>\n      <td>Route 5C - Cougar Creek</td>\n      <td>Route 5C provides local service within Canmore...</td>\n      <td>3</td>\n      <td>NaN</td>\n      <td>b288b9</td>\n      <td>000000</td>\n      <td>0</td>\n      <td>30</td>\n      <td>0</td>\n      <td>1</td>\n      <td>1</td>\n      <td>NaN</td>\n      <td>NaN</td>\n    </tr>\n    <tr>\n      <th>1</th>\n      <td>782</td>\n      <td>33008</td>\n      <td>5T</td>\n      <td>Route 5T - Three Sisters</td>\n      <td>Route 5T provides local service within Canmore...</td>\n      <td>3</td>\n      <td>NaN</td>\n      <td>4c12a1</td>\n      <td>FFFFFF</td>\n      <td>0</td>\n      <td>30</td>\n      <td>0</td>\n      <td>1</td>\n      <td>1</td>\n      <td>NaN</td>\n      <td>NaN</td>\n    </tr>\n    <tr>\n      <th>2</th>\n      <td>782</td>\n      <td>9507</td>\n      <td>1</td>\n      <td>Route 1 - Sulphur Mountain</td>\n      <td>Roam Route 1 provides service from the top of ...</td>\n      <td>3</td>\n      <td>NaN</td>\n      <td>336611</td>\n      <td>FFFFFF</td>\n      <td>0</td>\n      <td>40</td>\n      <td>0</td>\n      <td>1</td>\n      <td>1</td>\n      <td>NaN</td>\n      <td>NaN</td>\n    </tr>\n    <tr>\n      <th>3</th>\n      <td>782</td>\n      <td>9506</td>\n      <td>2</td>\n      <td>Route 2 - Tunnel Mountain</td>\n      <td>Roam Route 2 provides service from the top of ...</td>\n      <td>3</td>\n      <td>NaN</td>\n      <td>00afd7</td>\n      <td>FFFFFF</td>\n      <td>1</td>\n      <td>40</td>\n      <td>0</td>\n      <td>1</td>\n      <td>1</td>\n      <td>NaN</td>\n      <td>NaN</td>\n    </tr>\n    <tr>\n      <th>4</th>\n      <td>782</td>\n      <td>9505</td>\n      <td>3</td>\n      <td>Route 3 -  Canmore/Banff Regional</td>\n      <td>Roam Route 3 provides regional service between...</td>\n      <td>3</td>\n      <td>NaN</td>\n      <td>ee2737</td>\n      <td>FFFFFF</td>\n      <td>2</td>\n      <td>60</td>\n      <td>0</td>\n      <td>1</td>\n      <td>1</td>\n      <td>NaN</td>\n      <td>NaN</td>\n    </tr>\n  </tbody>\n</table>\n</div>"
     },
     "execution_count": 137,
     "metadata": {},
     "output_type": "execute_result"
    }
   ],
   "source": [
    "routes.head()"
   ],
   "metadata": {
    "collapsed": false,
    "pycharm": {
     "name": "#%%\n"
    }
   }
  },
  {
   "cell_type": "code",
   "execution_count": 138,
   "outputs": [
    {
     "data": {
      "text/plain": "                  trip_id arrival_time departure_time  stop_id  stop_sequence  \\\n0  t_1552898_b_19293_tn_1     06:15:00       06:15:00  2428701              1   \n1  t_1552898_b_19293_tn_1     06:16:00       06:16:00  2428700              2   \n2  t_1552898_b_19293_tn_1     06:17:00       06:17:00  2428699              3   \n3  t_1552898_b_19293_tn_1     06:17:00       06:17:00  2428698              4   \n4  t_1552898_b_19293_tn_1     06:18:00       06:18:00  2428669              5   \n\n   stop_headsign  pickup_type  drop_off_type  shape_dist_traveled  timepoint  \\\n0  Banff Gondola            0              0             0.000000          0   \n1  Banff Gondola            0              0           277.441125          0   \n2  Banff Gondola            0              0           603.296796          0   \n3  Banff Gondola            0              0           902.882020          0   \n4  Banff Gondola            0              0          1141.851296          0   \n\n   ...  drop_off_booking_rule_id  start_pickup_dropoff_window  \\\n0  ...                       NaN                          NaN   \n1  ...                       NaN                          NaN   \n2  ...                       NaN                          NaN   \n3  ...                       NaN                          NaN   \n4  ...                       NaN                          NaN   \n\n   end_pickup_dropoff_window  mean_duration_factor  mean_duration_offset  \\\n0                        NaN                   NaN                   NaN   \n1                        NaN                   NaN                   NaN   \n2                        NaN                   NaN                   NaN   \n3                        NaN                   NaN                   NaN   \n4                        NaN                   NaN                   NaN   \n\n   safe_duration_factor  safe_duration_offset  tts_stop_headsign  \\\n0                   NaN                   NaN                NaN   \n1                   NaN                   NaN                NaN   \n2                   NaN                   NaN                NaN   \n3                   NaN                   NaN                NaN   \n4                   NaN                   NaN                NaN   \n\n   min_arrival_time  max_departure_time  \n0               NaN                 NaN  \n1               NaN                 NaN  \n2               NaN                 NaN  \n3               NaN                 NaN  \n4               NaN                 NaN  \n\n[5 rows x 27 columns]",
      "text/html": "<div>\n<style scoped>\n    .dataframe tbody tr th:only-of-type {\n        vertical-align: middle;\n    }\n\n    .dataframe tbody tr th {\n        vertical-align: top;\n    }\n\n    .dataframe thead th {\n        text-align: right;\n    }\n</style>\n<table border=\"1\" class=\"dataframe\">\n  <thead>\n    <tr style=\"text-align: right;\">\n      <th></th>\n      <th>trip_id</th>\n      <th>arrival_time</th>\n      <th>departure_time</th>\n      <th>stop_id</th>\n      <th>stop_sequence</th>\n      <th>stop_headsign</th>\n      <th>pickup_type</th>\n      <th>drop_off_type</th>\n      <th>shape_dist_traveled</th>\n      <th>timepoint</th>\n      <th>...</th>\n      <th>drop_off_booking_rule_id</th>\n      <th>start_pickup_dropoff_window</th>\n      <th>end_pickup_dropoff_window</th>\n      <th>mean_duration_factor</th>\n      <th>mean_duration_offset</th>\n      <th>safe_duration_factor</th>\n      <th>safe_duration_offset</th>\n      <th>tts_stop_headsign</th>\n      <th>min_arrival_time</th>\n      <th>max_departure_time</th>\n    </tr>\n  </thead>\n  <tbody>\n    <tr>\n      <th>0</th>\n      <td>t_1552898_b_19293_tn_1</td>\n      <td>06:15:00</td>\n      <td>06:15:00</td>\n      <td>2428701</td>\n      <td>1</td>\n      <td>Banff Gondola</td>\n      <td>0</td>\n      <td>0</td>\n      <td>0.000000</td>\n      <td>0</td>\n      <td>...</td>\n      <td>NaN</td>\n      <td>NaN</td>\n      <td>NaN</td>\n      <td>NaN</td>\n      <td>NaN</td>\n      <td>NaN</td>\n      <td>NaN</td>\n      <td>NaN</td>\n      <td>NaN</td>\n      <td>NaN</td>\n    </tr>\n    <tr>\n      <th>1</th>\n      <td>t_1552898_b_19293_tn_1</td>\n      <td>06:16:00</td>\n      <td>06:16:00</td>\n      <td>2428700</td>\n      <td>2</td>\n      <td>Banff Gondola</td>\n      <td>0</td>\n      <td>0</td>\n      <td>277.441125</td>\n      <td>0</td>\n      <td>...</td>\n      <td>NaN</td>\n      <td>NaN</td>\n      <td>NaN</td>\n      <td>NaN</td>\n      <td>NaN</td>\n      <td>NaN</td>\n      <td>NaN</td>\n      <td>NaN</td>\n      <td>NaN</td>\n      <td>NaN</td>\n    </tr>\n    <tr>\n      <th>2</th>\n      <td>t_1552898_b_19293_tn_1</td>\n      <td>06:17:00</td>\n      <td>06:17:00</td>\n      <td>2428699</td>\n      <td>3</td>\n      <td>Banff Gondola</td>\n      <td>0</td>\n      <td>0</td>\n      <td>603.296796</td>\n      <td>0</td>\n      <td>...</td>\n      <td>NaN</td>\n      <td>NaN</td>\n      <td>NaN</td>\n      <td>NaN</td>\n      <td>NaN</td>\n      <td>NaN</td>\n      <td>NaN</td>\n      <td>NaN</td>\n      <td>NaN</td>\n      <td>NaN</td>\n    </tr>\n    <tr>\n      <th>3</th>\n      <td>t_1552898_b_19293_tn_1</td>\n      <td>06:17:00</td>\n      <td>06:17:00</td>\n      <td>2428698</td>\n      <td>4</td>\n      <td>Banff Gondola</td>\n      <td>0</td>\n      <td>0</td>\n      <td>902.882020</td>\n      <td>0</td>\n      <td>...</td>\n      <td>NaN</td>\n      <td>NaN</td>\n      <td>NaN</td>\n      <td>NaN</td>\n      <td>NaN</td>\n      <td>NaN</td>\n      <td>NaN</td>\n      <td>NaN</td>\n      <td>NaN</td>\n      <td>NaN</td>\n    </tr>\n    <tr>\n      <th>4</th>\n      <td>t_1552898_b_19293_tn_1</td>\n      <td>06:18:00</td>\n      <td>06:18:00</td>\n      <td>2428669</td>\n      <td>5</td>\n      <td>Banff Gondola</td>\n      <td>0</td>\n      <td>0</td>\n      <td>1141.851296</td>\n      <td>0</td>\n      <td>...</td>\n      <td>NaN</td>\n      <td>NaN</td>\n      <td>NaN</td>\n      <td>NaN</td>\n      <td>NaN</td>\n      <td>NaN</td>\n      <td>NaN</td>\n      <td>NaN</td>\n      <td>NaN</td>\n      <td>NaN</td>\n    </tr>\n  </tbody>\n</table>\n<p>5 rows × 27 columns</p>\n</div>"
     },
     "execution_count": 138,
     "metadata": {},
     "output_type": "execute_result"
    }
   ],
   "source": [
    "stop_times.head()"
   ],
   "metadata": {
    "collapsed": false,
    "pycharm": {
     "name": "#%%\n"
    }
   }
  },
  {
   "cell_type": "code",
   "execution_count": 139,
   "outputs": [
    {
     "data": {
      "text/plain": "              service_id                            service_name  monday  \\\n0   c_24452_b_34253_d_96           Spring 2022 Route 3 (Weekend)       0   \n1   c_24452_b_34253_d_31           Spring 2022 Route 3 (Weekday)       1   \n2   c_24447_b_34247_d_96           New Route 5C and 5T (Weekend)       0   \n3   c_24447_b_34247_d_31           New Route 5C and 5T (Weekday)       1   \n4  c_17992_b_22458_d_127  Fall Routes 8X 2021 (All days of week)       1   \n\n   tuesday  wednesday  thursday  friday  saturday  sunday  start_date  \\\n0        0          0         0       0         1       1    20220404   \n1        1          1         1       1         0       0    20220404   \n2        0          0         0       0         1       1    20220404   \n3        1          1         1       1         0       0    20220404   \n4        1          1         1       1         1       1    20210920   \n\n   end_date  \n0  20230402  \n1  20230402  \n2  20230407  \n3  20230407  \n4  20220519  ",
      "text/html": "<div>\n<style scoped>\n    .dataframe tbody tr th:only-of-type {\n        vertical-align: middle;\n    }\n\n    .dataframe tbody tr th {\n        vertical-align: top;\n    }\n\n    .dataframe thead th {\n        text-align: right;\n    }\n</style>\n<table border=\"1\" class=\"dataframe\">\n  <thead>\n    <tr style=\"text-align: right;\">\n      <th></th>\n      <th>service_id</th>\n      <th>service_name</th>\n      <th>monday</th>\n      <th>tuesday</th>\n      <th>wednesday</th>\n      <th>thursday</th>\n      <th>friday</th>\n      <th>saturday</th>\n      <th>sunday</th>\n      <th>start_date</th>\n      <th>end_date</th>\n    </tr>\n  </thead>\n  <tbody>\n    <tr>\n      <th>0</th>\n      <td>c_24452_b_34253_d_96</td>\n      <td>Spring 2022 Route 3 (Weekend)</td>\n      <td>0</td>\n      <td>0</td>\n      <td>0</td>\n      <td>0</td>\n      <td>0</td>\n      <td>1</td>\n      <td>1</td>\n      <td>20220404</td>\n      <td>20230402</td>\n    </tr>\n    <tr>\n      <th>1</th>\n      <td>c_24452_b_34253_d_31</td>\n      <td>Spring 2022 Route 3 (Weekday)</td>\n      <td>1</td>\n      <td>1</td>\n      <td>1</td>\n      <td>1</td>\n      <td>1</td>\n      <td>0</td>\n      <td>0</td>\n      <td>20220404</td>\n      <td>20230402</td>\n    </tr>\n    <tr>\n      <th>2</th>\n      <td>c_24447_b_34247_d_96</td>\n      <td>New Route 5C and 5T (Weekend)</td>\n      <td>0</td>\n      <td>0</td>\n      <td>0</td>\n      <td>0</td>\n      <td>0</td>\n      <td>1</td>\n      <td>1</td>\n      <td>20220404</td>\n      <td>20230407</td>\n    </tr>\n    <tr>\n      <th>3</th>\n      <td>c_24447_b_34247_d_31</td>\n      <td>New Route 5C and 5T (Weekday)</td>\n      <td>1</td>\n      <td>1</td>\n      <td>1</td>\n      <td>1</td>\n      <td>1</td>\n      <td>0</td>\n      <td>0</td>\n      <td>20220404</td>\n      <td>20230407</td>\n    </tr>\n    <tr>\n      <th>4</th>\n      <td>c_17992_b_22458_d_127</td>\n      <td>Fall Routes 8X 2021 (All days of week)</td>\n      <td>1</td>\n      <td>1</td>\n      <td>1</td>\n      <td>1</td>\n      <td>1</td>\n      <td>1</td>\n      <td>1</td>\n      <td>20210920</td>\n      <td>20220519</td>\n    </tr>\n  </tbody>\n</table>\n</div>"
     },
     "execution_count": 139,
     "metadata": {},
     "output_type": "execute_result"
    }
   ],
   "source": [
    "calendar.head()"
   ],
   "metadata": {
    "collapsed": false,
    "pycharm": {
     "name": "#%%\n"
    }
   }
  },
  {
   "cell_type": "code",
   "execution_count": 140,
   "outputs": [
    {
     "data": {
      "text/plain": "              service_id                     service_description\n0   c_24452_b_34253_d_96           Spring 2022 Route 3 (Weekend)\n1   c_24452_b_34253_d_31           Spring 2022 Route 3 (Weekday)\n2   c_24447_b_34247_d_96           New Route 5C and 5T (Weekend)\n3   c_24447_b_34247_d_31           New Route 5C and 5T (Weekday)\n4  c_17992_b_22458_d_127  Fall Routes 8X 2021 (All days of week)",
      "text/html": "<div>\n<style scoped>\n    .dataframe tbody tr th:only-of-type {\n        vertical-align: middle;\n    }\n\n    .dataframe tbody tr th {\n        vertical-align: top;\n    }\n\n    .dataframe thead th {\n        text-align: right;\n    }\n</style>\n<table border=\"1\" class=\"dataframe\">\n  <thead>\n    <tr style=\"text-align: right;\">\n      <th></th>\n      <th>service_id</th>\n      <th>service_description</th>\n    </tr>\n  </thead>\n  <tbody>\n    <tr>\n      <th>0</th>\n      <td>c_24452_b_34253_d_96</td>\n      <td>Spring 2022 Route 3 (Weekend)</td>\n    </tr>\n    <tr>\n      <th>1</th>\n      <td>c_24452_b_34253_d_31</td>\n      <td>Spring 2022 Route 3 (Weekday)</td>\n    </tr>\n    <tr>\n      <th>2</th>\n      <td>c_24447_b_34247_d_96</td>\n      <td>New Route 5C and 5T (Weekend)</td>\n    </tr>\n    <tr>\n      <th>3</th>\n      <td>c_24447_b_34247_d_31</td>\n      <td>New Route 5C and 5T (Weekday)</td>\n    </tr>\n    <tr>\n      <th>4</th>\n      <td>c_17992_b_22458_d_127</td>\n      <td>Fall Routes 8X 2021 (All days of week)</td>\n    </tr>\n  </tbody>\n</table>\n</div>"
     },
     "execution_count": 140,
     "metadata": {},
     "output_type": "execute_result"
    }
   ],
   "source": [
    "calendar_attrs.head()"
   ],
   "metadata": {
    "collapsed": false,
    "pycharm": {
     "name": "#%%\n"
    }
   }
  },
  {
   "cell_type": "code",
   "execution_count": 141,
   "outputs": [
    {
     "data": {
      "text/plain": "   stop_id  stop_code  platform_code                stop_name stop_desc  \\\n0  2428615        NaN            NaN            Stewart Creek       NaN   \n1  2428621        NaN            NaN         Boulder Crescent       NaN   \n2  2428622        NaN            NaN              Grotto Road       NaN   \n3  2428623        NaN            NaN               Grotto Way       NaN   \n4  2428624        NaN            NaN  Lady Macdonald Crescent       NaN   \n\n    stop_lat    stop_lon  zone_id  stop_url  location_type  parent_station  \\\n0  51.050576 -115.313940   1916.0       NaN              0             NaN   \n1  51.078752 -115.327904   1916.0       NaN              0             NaN   \n2  51.082297 -115.329944   1916.0       NaN              0             NaN   \n3  51.079977 -115.332304   1916.0       NaN              0             NaN   \n4  51.083399 -115.326982   1916.0       NaN              0             NaN   \n\n      stop_timezone  position  direction  wheelchair_boarding  tts_stop_name  \n0  America/Edmonton       NaN        NaN                    1            NaN  \n1  America/Edmonton       NaN        NaN                    1            NaN  \n2  America/Edmonton       NaN        NaN                    1            NaN  \n3  America/Edmonton       NaN        NaN                    1            NaN  \n4  America/Edmonton       NaN        NaN                    1            NaN  ",
      "text/html": "<div>\n<style scoped>\n    .dataframe tbody tr th:only-of-type {\n        vertical-align: middle;\n    }\n\n    .dataframe tbody tr th {\n        vertical-align: top;\n    }\n\n    .dataframe thead th {\n        text-align: right;\n    }\n</style>\n<table border=\"1\" class=\"dataframe\">\n  <thead>\n    <tr style=\"text-align: right;\">\n      <th></th>\n      <th>stop_id</th>\n      <th>stop_code</th>\n      <th>platform_code</th>\n      <th>stop_name</th>\n      <th>stop_desc</th>\n      <th>stop_lat</th>\n      <th>stop_lon</th>\n      <th>zone_id</th>\n      <th>stop_url</th>\n      <th>location_type</th>\n      <th>parent_station</th>\n      <th>stop_timezone</th>\n      <th>position</th>\n      <th>direction</th>\n      <th>wheelchair_boarding</th>\n      <th>tts_stop_name</th>\n    </tr>\n  </thead>\n  <tbody>\n    <tr>\n      <th>0</th>\n      <td>2428615</td>\n      <td>NaN</td>\n      <td>NaN</td>\n      <td>Stewart Creek</td>\n      <td>NaN</td>\n      <td>51.050576</td>\n      <td>-115.313940</td>\n      <td>1916.0</td>\n      <td>NaN</td>\n      <td>0</td>\n      <td>NaN</td>\n      <td>America/Edmonton</td>\n      <td>NaN</td>\n      <td>NaN</td>\n      <td>1</td>\n      <td>NaN</td>\n    </tr>\n    <tr>\n      <th>1</th>\n      <td>2428621</td>\n      <td>NaN</td>\n      <td>NaN</td>\n      <td>Boulder Crescent</td>\n      <td>NaN</td>\n      <td>51.078752</td>\n      <td>-115.327904</td>\n      <td>1916.0</td>\n      <td>NaN</td>\n      <td>0</td>\n      <td>NaN</td>\n      <td>America/Edmonton</td>\n      <td>NaN</td>\n      <td>NaN</td>\n      <td>1</td>\n      <td>NaN</td>\n    </tr>\n    <tr>\n      <th>2</th>\n      <td>2428622</td>\n      <td>NaN</td>\n      <td>NaN</td>\n      <td>Grotto Road</td>\n      <td>NaN</td>\n      <td>51.082297</td>\n      <td>-115.329944</td>\n      <td>1916.0</td>\n      <td>NaN</td>\n      <td>0</td>\n      <td>NaN</td>\n      <td>America/Edmonton</td>\n      <td>NaN</td>\n      <td>NaN</td>\n      <td>1</td>\n      <td>NaN</td>\n    </tr>\n    <tr>\n      <th>3</th>\n      <td>2428623</td>\n      <td>NaN</td>\n      <td>NaN</td>\n      <td>Grotto Way</td>\n      <td>NaN</td>\n      <td>51.079977</td>\n      <td>-115.332304</td>\n      <td>1916.0</td>\n      <td>NaN</td>\n      <td>0</td>\n      <td>NaN</td>\n      <td>America/Edmonton</td>\n      <td>NaN</td>\n      <td>NaN</td>\n      <td>1</td>\n      <td>NaN</td>\n    </tr>\n    <tr>\n      <th>4</th>\n      <td>2428624</td>\n      <td>NaN</td>\n      <td>NaN</td>\n      <td>Lady Macdonald Crescent</td>\n      <td>NaN</td>\n      <td>51.083399</td>\n      <td>-115.326982</td>\n      <td>1916.0</td>\n      <td>NaN</td>\n      <td>0</td>\n      <td>NaN</td>\n      <td>America/Edmonton</td>\n      <td>NaN</td>\n      <td>NaN</td>\n      <td>1</td>\n      <td>NaN</td>\n    </tr>\n  </tbody>\n</table>\n</div>"
     },
     "execution_count": 141,
     "metadata": {},
     "output_type": "execute_result"
    }
   ],
   "source": [
    "stops.head()"
   ],
   "metadata": {
    "collapsed": false,
    "pycharm": {
     "name": "#%%\n"
    }
   }
  },
  {
   "cell_type": "code",
   "execution_count": 142,
   "outputs": [],
   "source": [
    "stop_times_df  = stop_times.drop(columns=['pickup_type', 'drop_off_type',\n",
    "       'timepoint', 'start_service_area_id', 'end_service_area_id',\n",
    "       'start_service_area_radius', 'end_service_area_radius',\n",
    "       'continuous_pickup', 'continuous_drop_off', 'pickup_booking_rule_id',\n",
    "       'drop_off_booking_rule_id', 'start_pickup_dropoff_window',\n",
    "       'end_pickup_dropoff_window', 'mean_duration_factor',\n",
    "       'mean_duration_offset', 'safe_duration_factor', 'safe_duration_offset',\n",
    "       'tts_stop_headsign', 'min_arrival_time', 'max_departure_time'])"
   ],
   "metadata": {
    "collapsed": false,
    "pycharm": {
     "name": "#%%\n"
    }
   }
  },
  {
   "cell_type": "code",
   "execution_count": 143,
   "outputs": [],
   "source": [
    "stops_df = stops.drop(columns=[ 'stop_code', 'platform_code',\n",
    "       'zone_id', 'stop_url', 'location_type',\n",
    "       'position', 'direction', 'parent_station',\n",
    "       'wheelchair_boarding', 'tts_stop_name'])"
   ],
   "metadata": {
    "collapsed": false,
    "pycharm": {
     "name": "#%%\n"
    }
   }
  },
  {
   "cell_type": "code",
   "execution_count": 144,
   "outputs": [],
   "source": [
    "trips_df = trips.drop(columns=[\n",
    "       'direction_id',  'bikes_allowed', 'trip_short_name',\n",
    "       'wheelchair_accessible', 'trip_type', 'drt_max_travel_time',\n",
    "       'drt_avg_travel_time', 'drt_advance_book_min', 'drt_pickup_message',\n",
    "       'drt_drop_off_message', 'continuous_pickup_message',\n",
    "       'continuous_drop_off_message', 'tts_trip_headsign',\n",
    "       'tts_trip_short_name'])"
   ],
   "metadata": {
    "collapsed": false,
    "pycharm": {
     "name": "#%%\n"
    }
   }
  },
  {
   "cell_type": "code",
   "execution_count": 145,
   "outputs": [],
   "source": [
    "routes_df = routes.drop(columns=['agency_id',  'route_url', 'route_color',\n",
    "       'route_text_color', 'route_sort_order', 'min_headway_minutes',\n",
    "       'eligibility_restricted', 'continuous_pickup', 'continuous_drop_off',\n",
    "       'tts_route_short_name', 'tts_route_long_name'])"
   ],
   "metadata": {
    "collapsed": false,
    "pycharm": {
     "name": "#%%\n"
    }
   }
  },
  {
   "cell_type": "code",
   "execution_count": 146,
   "outputs": [
    {
     "name": "stdout",
     "output_type": "stream",
     "text": [
      "(4262, 31)\n"
     ]
    },
    {
     "data": {
      "text/plain": "                  trip_id arrival_time departure_time  stop_id  stop_sequence  \\\n0  t_1552898_b_19293_tn_1     06:15:00       06:15:00  2428701              1   \n1  t_1552898_b_19293_tn_1     06:16:00       06:16:00  2428700              2   \n2  t_1552898_b_19293_tn_1     06:17:00       06:17:00  2428699              3   \n3  t_1552898_b_19293_tn_1     06:17:00       06:17:00  2428698              4   \n4  t_1552898_b_19293_tn_1     06:18:00       06:18:00  2428669              5   \n\n   stop_headsign  shape_dist_traveled           stop_name stop_desc  \\\n0  Banff Gondola             0.000000      Marmot Cresent       NaN   \n1  Banff Gondola           277.441125         Rotary Park       NaN   \n2  Banff Gondola           603.296796     Fox Street West       NaN   \n3  Banff Gondola           902.882020  Rabbit Street West       NaN   \n4  Banff Gondola          1141.851296        Moose Street       NaN   \n\n    stop_lat  ...  thursday friday  saturday sunday start_date  end_date  \\\n0  51.185722  ...         1      1         1      1   20210920  20220519   \n1  51.184506  ...         1      1         1      1   20210920  20220519   \n2  51.183153  ...         1      1         1      1   20210920  20220519   \n3  51.181943  ...         1      1         1      1   20210920  20220519   \n4  51.180335  ...         1      1         1      1   20210920  20220519   \n\n  route_short_name             route_long_name  \\\n0                1  Route 1 - Sulphur Mountain   \n1                1  Route 1 - Sulphur Mountain   \n2                1  Route 1 - Sulphur Mountain   \n3                1  Route 1 - Sulphur Mountain   \n4                1  Route 1 - Sulphur Mountain   \n\n                                          route_desc  route_type  \n0  Roam Route 1 provides service from the top of ...           3  \n1  Roam Route 1 provides service from the top of ...           3  \n2  Roam Route 1 provides service from the top of ...           3  \n3  Roam Route 1 provides service from the top of ...           3  \n4  Roam Route 1 provides service from the top of ...           3  \n\n[5 rows x 31 columns]",
      "text/html": "<div>\n<style scoped>\n    .dataframe tbody tr th:only-of-type {\n        vertical-align: middle;\n    }\n\n    .dataframe tbody tr th {\n        vertical-align: top;\n    }\n\n    .dataframe thead th {\n        text-align: right;\n    }\n</style>\n<table border=\"1\" class=\"dataframe\">\n  <thead>\n    <tr style=\"text-align: right;\">\n      <th></th>\n      <th>trip_id</th>\n      <th>arrival_time</th>\n      <th>departure_time</th>\n      <th>stop_id</th>\n      <th>stop_sequence</th>\n      <th>stop_headsign</th>\n      <th>shape_dist_traveled</th>\n      <th>stop_name</th>\n      <th>stop_desc</th>\n      <th>stop_lat</th>\n      <th>...</th>\n      <th>thursday</th>\n      <th>friday</th>\n      <th>saturday</th>\n      <th>sunday</th>\n      <th>start_date</th>\n      <th>end_date</th>\n      <th>route_short_name</th>\n      <th>route_long_name</th>\n      <th>route_desc</th>\n      <th>route_type</th>\n    </tr>\n  </thead>\n  <tbody>\n    <tr>\n      <th>0</th>\n      <td>t_1552898_b_19293_tn_1</td>\n      <td>06:15:00</td>\n      <td>06:15:00</td>\n      <td>2428701</td>\n      <td>1</td>\n      <td>Banff Gondola</td>\n      <td>0.000000</td>\n      <td>Marmot Cresent</td>\n      <td>NaN</td>\n      <td>51.185722</td>\n      <td>...</td>\n      <td>1</td>\n      <td>1</td>\n      <td>1</td>\n      <td>1</td>\n      <td>20210920</td>\n      <td>20220519</td>\n      <td>1</td>\n      <td>Route 1 - Sulphur Mountain</td>\n      <td>Roam Route 1 provides service from the top of ...</td>\n      <td>3</td>\n    </tr>\n    <tr>\n      <th>1</th>\n      <td>t_1552898_b_19293_tn_1</td>\n      <td>06:16:00</td>\n      <td>06:16:00</td>\n      <td>2428700</td>\n      <td>2</td>\n      <td>Banff Gondola</td>\n      <td>277.441125</td>\n      <td>Rotary Park</td>\n      <td>NaN</td>\n      <td>51.184506</td>\n      <td>...</td>\n      <td>1</td>\n      <td>1</td>\n      <td>1</td>\n      <td>1</td>\n      <td>20210920</td>\n      <td>20220519</td>\n      <td>1</td>\n      <td>Route 1 - Sulphur Mountain</td>\n      <td>Roam Route 1 provides service from the top of ...</td>\n      <td>3</td>\n    </tr>\n    <tr>\n      <th>2</th>\n      <td>t_1552898_b_19293_tn_1</td>\n      <td>06:17:00</td>\n      <td>06:17:00</td>\n      <td>2428699</td>\n      <td>3</td>\n      <td>Banff Gondola</td>\n      <td>603.296796</td>\n      <td>Fox Street West</td>\n      <td>NaN</td>\n      <td>51.183153</td>\n      <td>...</td>\n      <td>1</td>\n      <td>1</td>\n      <td>1</td>\n      <td>1</td>\n      <td>20210920</td>\n      <td>20220519</td>\n      <td>1</td>\n      <td>Route 1 - Sulphur Mountain</td>\n      <td>Roam Route 1 provides service from the top of ...</td>\n      <td>3</td>\n    </tr>\n    <tr>\n      <th>3</th>\n      <td>t_1552898_b_19293_tn_1</td>\n      <td>06:17:00</td>\n      <td>06:17:00</td>\n      <td>2428698</td>\n      <td>4</td>\n      <td>Banff Gondola</td>\n      <td>902.882020</td>\n      <td>Rabbit Street West</td>\n      <td>NaN</td>\n      <td>51.181943</td>\n      <td>...</td>\n      <td>1</td>\n      <td>1</td>\n      <td>1</td>\n      <td>1</td>\n      <td>20210920</td>\n      <td>20220519</td>\n      <td>1</td>\n      <td>Route 1 - Sulphur Mountain</td>\n      <td>Roam Route 1 provides service from the top of ...</td>\n      <td>3</td>\n    </tr>\n    <tr>\n      <th>4</th>\n      <td>t_1552898_b_19293_tn_1</td>\n      <td>06:18:00</td>\n      <td>06:18:00</td>\n      <td>2428669</td>\n      <td>5</td>\n      <td>Banff Gondola</td>\n      <td>1141.851296</td>\n      <td>Moose Street</td>\n      <td>NaN</td>\n      <td>51.180335</td>\n      <td>...</td>\n      <td>1</td>\n      <td>1</td>\n      <td>1</td>\n      <td>1</td>\n      <td>20210920</td>\n      <td>20220519</td>\n      <td>1</td>\n      <td>Route 1 - Sulphur Mountain</td>\n      <td>Roam Route 1 provides service from the top of ...</td>\n      <td>3</td>\n    </tr>\n  </tbody>\n</table>\n<p>5 rows × 31 columns</p>\n</div>"
     },
     "execution_count": 146,
     "metadata": {},
     "output_type": "execute_result"
    }
   ],
   "source": [
    "gtfs_df = stop_times_df.merge(stops_df,how='left', on='stop_id')\n",
    "gtfs_df = gtfs_df.merge(trips_df, how='left', on='trip_id')\n",
    "gtfs_df = gtfs_df.merge(calendar, how='left', on='service_id')\n",
    "gtfs_df = gtfs_df.merge(routes_df, how='left', on='route_id')\n",
    "print(gtfs_df.shape)\n",
    "gtfs_df.head()"
   ],
   "metadata": {
    "collapsed": false,
    "pycharm": {
     "name": "#%%\n"
    }
   }
  },
  {
   "cell_type": "code",
   "execution_count": 147,
   "outputs": [
    {
     "name": "stdout",
     "output_type": "stream",
     "text": [
      "Dataframe file size is 1.09 MB\n"
     ]
    }
   ],
   "source": [
    "size = gtfs_df.memory_usage(index=True).sum()/1000000\n",
    "print('Dataframe file size is {:.2f} MB'.format(size))"
   ],
   "metadata": {
    "collapsed": false,
    "pycharm": {
     "name": "#%%\n"
    }
   }
  },
  {
   "cell_type": "code",
   "execution_count": 148,
   "outputs": [],
   "source": [
    "gtfs_df.to_excel('./gtfs_sheets/{}.xlsx'.format(FILENAME), index=False)"
   ],
   "metadata": {
    "collapsed": false,
    "pycharm": {
     "name": "#%%\n"
    }
   }
  },
  {
   "cell_type": "code",
   "execution_count": 149,
   "outputs": [],
   "source": [
    "#arrival_time = gtfs_df.groupby('route_long_name')['arrival_time'].agg('min')\n",
    "#gtfs_df['arrival_dt'] = np.where(gtfs_df['arrival_time'][:2] == '24', str(next_date) + ' ' + gtfs_df['arrival_time'],str(date) + ' ' + gtfs_df['arrival_time'] )\n",
    "gtfs_df['arrival_dt'] =  pd.to_timedelta(gtfs_df['arrival_time'])"
   ],
   "metadata": {
    "collapsed": false,
    "pycharm": {
     "name": "#%%\n"
    }
   }
  },
  {
   "cell_type": "code",
   "execution_count": 150,
   "outputs": [],
   "source": [
    "date = pd.to_datetime(date)\n",
    "gtfs_df['arrival_dt'] = date +gtfs_df['arrival_dt']"
   ],
   "metadata": {
    "collapsed": false,
    "pycharm": {
     "name": "#%%\n"
    }
   }
  },
  {
   "cell_type": "code",
   "execution_count": 151,
   "outputs": [
    {
     "data": {
      "text/plain": "Index(['trip_id', 'arrival_time', 'departure_time', 'stop_id', 'stop_sequence',\n       'stop_headsign', 'shape_dist_traveled', 'stop_name', 'stop_desc',\n       'stop_lat', 'stop_lon', 'stop_timezone', 'route_id', 'service_id',\n       'trip_headsign', 'block_id', 'shape_id', 'service_name', 'monday',\n       'tuesday', 'wednesday', 'thursday', 'friday', 'saturday', 'sunday',\n       'start_date', 'end_date', 'route_short_name', 'route_long_name',\n       'route_desc', 'route_type', 'arrival_dt'],\n      dtype='object')"
     },
     "execution_count": 151,
     "metadata": {},
     "output_type": "execute_result"
    }
   ],
   "source": [
    "gtfs_df.columns"
   ],
   "metadata": {
    "collapsed": false,
    "pycharm": {
     "name": "#%%\n"
    }
   }
  },
  {
   "cell_type": "code",
   "execution_count": 152,
   "outputs": [
    {
     "data": {
      "text/plain": "                                                                                                        min  \\\nroute_long_name                      service_name                                                             \nRoute 1 - Sulphur Mountain           Fall thru Spring Routes 1 and 2 (All days of week) 2022-04-12 06:15:00   \nRoute 2 - Tunnel Mountain            Fall thru Spring Routes 1 and 2 (All days of week) 2022-04-12 06:15:00   \nRoute 3 -  Canmore/Banff Regional    Spring 2022 Route 3 (Weekday)                      2022-04-12 06:00:00   \n                                     Spring 2022 Route 3 (Weekend)                      2022-04-12 06:00:00   \nRoute 5C - Cougar Creek              New Route 5C and 5T (Weekday)                      2022-04-12 06:01:00   \n                                     New Route 5C and 5T (Weekend)                      2022-04-12 08:01:00   \nRoute 5T - Three Sisters             New Route 5C and 5T (Weekday)                      2022-04-12 06:07:00   \n                                     New Route 5C and 5T (Weekend)                      2022-04-12 08:07:00   \nRoute 8X - Lake Louise/Banff Express Fall Routes 8X 2021 (All days of week)             2022-04-12 07:30:00   \n\n                                                                                                        max  \\\nroute_long_name                      service_name                                                             \nRoute 1 - Sulphur Mountain           Fall thru Spring Routes 1 and 2 (All days of week) 2022-04-12 23:40:00   \nRoute 2 - Tunnel Mountain            Fall thru Spring Routes 1 and 2 (All days of week) 2022-04-12 23:35:00   \nRoute 3 -  Canmore/Banff Regional    Spring 2022 Route 3 (Weekday)                      2022-04-12 22:55:00   \n                                     Spring 2022 Route 3 (Weekend)                      2022-04-12 23:25:00   \nRoute 5C - Cougar Creek              New Route 5C and 5T (Weekday)                      2022-04-12 22:43:00   \n                                     New Route 5C and 5T (Weekend)                      2022-04-12 20:37:00   \nRoute 5T - Three Sisters             New Route 5C and 5T (Weekday)                      2022-04-12 22:23:00   \n                                     New Route 5C and 5T (Weekend)                      2022-04-12 20:02:00   \nRoute 8X - Lake Louise/Banff Express Fall Routes 8X 2021 (All days of week)             2022-04-12 23:53:00   \n\n                                                                                         time_out  \\\nroute_long_name                      service_name                                                   \nRoute 1 - Sulphur Mountain           Fall thru Spring Routes 1 and 2 (All days of week)     17.42   \nRoute 2 - Tunnel Mountain            Fall thru Spring Routes 1 and 2 (All days of week)     17.33   \nRoute 3 -  Canmore/Banff Regional    Spring 2022 Route 3 (Weekday)                          16.92   \n                                     Spring 2022 Route 3 (Weekend)                          17.42   \nRoute 5C - Cougar Creek              New Route 5C and 5T (Weekday)                          16.70   \n                                     New Route 5C and 5T (Weekend)                          12.60   \nRoute 5T - Three Sisters             New Route 5C and 5T (Weekday)                          16.27   \n                                     New Route 5C and 5T (Weekend)                          11.92   \nRoute 8X - Lake Louise/Banff Express Fall Routes 8X 2021 (All days of week)                 16.38   \n\n                                                                                         charging_time  \nroute_long_name                      service_name                                                       \nRoute 1 - Sulphur Mountain           Fall thru Spring Routes 1 and 2 (All days of week)           6.58  \nRoute 2 - Tunnel Mountain            Fall thru Spring Routes 1 and 2 (All days of week)           6.67  \nRoute 3 -  Canmore/Banff Regional    Spring 2022 Route 3 (Weekday)                                7.08  \n                                     Spring 2022 Route 3 (Weekend)                                6.58  \nRoute 5C - Cougar Creek              New Route 5C and 5T (Weekday)                                7.30  \n                                     New Route 5C and 5T (Weekend)                               11.40  \nRoute 5T - Three Sisters             New Route 5C and 5T (Weekday)                                7.73  \n                                     New Route 5C and 5T (Weekend)                               12.08  \nRoute 8X - Lake Louise/Banff Express Fall Routes 8X 2021 (All days of week)                       7.62  ",
      "text/html": "<div>\n<style scoped>\n    .dataframe tbody tr th:only-of-type {\n        vertical-align: middle;\n    }\n\n    .dataframe tbody tr th {\n        vertical-align: top;\n    }\n\n    .dataframe thead th {\n        text-align: right;\n    }\n</style>\n<table border=\"1\" class=\"dataframe\">\n  <thead>\n    <tr style=\"text-align: right;\">\n      <th></th>\n      <th></th>\n      <th>min</th>\n      <th>max</th>\n      <th>time_out</th>\n      <th>charging_time</th>\n    </tr>\n    <tr>\n      <th>route_long_name</th>\n      <th>service_name</th>\n      <th></th>\n      <th></th>\n      <th></th>\n      <th></th>\n    </tr>\n  </thead>\n  <tbody>\n    <tr>\n      <th>Route 1 - Sulphur Mountain</th>\n      <th>Fall thru Spring Routes 1 and 2 (All days of week)</th>\n      <td>2022-04-12 06:15:00</td>\n      <td>2022-04-12 23:40:00</td>\n      <td>17.42</td>\n      <td>6.58</td>\n    </tr>\n    <tr>\n      <th>Route 2 - Tunnel Mountain</th>\n      <th>Fall thru Spring Routes 1 and 2 (All days of week)</th>\n      <td>2022-04-12 06:15:00</td>\n      <td>2022-04-12 23:35:00</td>\n      <td>17.33</td>\n      <td>6.67</td>\n    </tr>\n    <tr>\n      <th rowspan=\"2\" valign=\"top\">Route 3 -  Canmore/Banff Regional</th>\n      <th>Spring 2022 Route 3 (Weekday)</th>\n      <td>2022-04-12 06:00:00</td>\n      <td>2022-04-12 22:55:00</td>\n      <td>16.92</td>\n      <td>7.08</td>\n    </tr>\n    <tr>\n      <th>Spring 2022 Route 3 (Weekend)</th>\n      <td>2022-04-12 06:00:00</td>\n      <td>2022-04-12 23:25:00</td>\n      <td>17.42</td>\n      <td>6.58</td>\n    </tr>\n    <tr>\n      <th rowspan=\"2\" valign=\"top\">Route 5C - Cougar Creek</th>\n      <th>New Route 5C and 5T (Weekday)</th>\n      <td>2022-04-12 06:01:00</td>\n      <td>2022-04-12 22:43:00</td>\n      <td>16.70</td>\n      <td>7.30</td>\n    </tr>\n    <tr>\n      <th>New Route 5C and 5T (Weekend)</th>\n      <td>2022-04-12 08:01:00</td>\n      <td>2022-04-12 20:37:00</td>\n      <td>12.60</td>\n      <td>11.40</td>\n    </tr>\n    <tr>\n      <th rowspan=\"2\" valign=\"top\">Route 5T - Three Sisters</th>\n      <th>New Route 5C and 5T (Weekday)</th>\n      <td>2022-04-12 06:07:00</td>\n      <td>2022-04-12 22:23:00</td>\n      <td>16.27</td>\n      <td>7.73</td>\n    </tr>\n    <tr>\n      <th>New Route 5C and 5T (Weekend)</th>\n      <td>2022-04-12 08:07:00</td>\n      <td>2022-04-12 20:02:00</td>\n      <td>11.92</td>\n      <td>12.08</td>\n    </tr>\n    <tr>\n      <th>Route 8X - Lake Louise/Banff Express</th>\n      <th>Fall Routes 8X 2021 (All days of week)</th>\n      <td>2022-04-12 07:30:00</td>\n      <td>2022-04-12 23:53:00</td>\n      <td>16.38</td>\n      <td>7.62</td>\n    </tr>\n  </tbody>\n</table>\n</div>"
     },
     "execution_count": 152,
     "metadata": {},
     "output_type": "execute_result"
    }
   ],
   "source": [
    "DAY = pd.Timedelta('1 days')\n",
    "pull_in = gtfs_df.groupby(['route_long_name','service_name'])['arrival_dt'].agg(['min', 'max'])\n",
    "pull_in['time_out'] = (pull_in['max'] - pull_in['min']) #/ pd.Timedelta(hours=1)\n",
    "pull_in['charging_time'] = round((DAY - pull_in['time_out']) / pd.Timedelta(hours=1),2)\n",
    "pull_in['time_out'] = round((pull_in['max'] - pull_in['min']) / pd.Timedelta(hours=1),2)\n",
    "pull_in"
   ],
   "metadata": {
    "collapsed": false,
    "pycharm": {
     "name": "#%%\n"
    }
   }
  },
  {
   "cell_type": "code",
   "execution_count": 153,
   "outputs": [
    {
     "data": {
      "text/plain": "[]"
     },
     "execution_count": 153,
     "metadata": {},
     "output_type": "execute_result"
    },
    {
     "data": {
      "text/plain": "<Figure size 432x288 with 1 Axes>",
      "image/png": "[encoded data removed]"
     },
     "metadata": {
      "needs_background": "light"
     },
     "output_type": "display_data"
    }
   ],
   "source": [
    "plt.hist(pull_in['charging_time'])\n",
    "plt.xlabel('Charge Time')\n",
    "plt.ylabel('Number of Routes')\n",
    "plt.title('Available Charging Time per Route')\n",
    "plt.plot()"
   ],
   "metadata": {
    "collapsed": false,
    "pycharm": {
     "name": "#%%\n"
    }
   }
  },
  {
   "cell_type": "code",
   "execution_count": 154,
   "outputs": [
    {
     "data": {
      "text/plain": "                                                                                         monday  \\\nroute_long_name                      service_name                                                 \nRoute 1 - Sulphur Mountain           Fall thru Spring Routes 1 and 2 (All days of week)     1.0   \nRoute 2 - Tunnel Mountain            Fall thru Spring Routes 1 and 2 (All days of week)     1.0   \nRoute 3 -  Canmore/Banff Regional    Spring 2022 Route 3 (Weekday)                          1.0   \n                                     Spring 2022 Route 3 (Weekend)                          0.0   \nRoute 5C - Cougar Creek              New Route 5C and 5T (Weekday)                          1.0   \n                                     New Route 5C and 5T (Weekend)                          0.0   \nRoute 5T - Three Sisters             New Route 5C and 5T (Weekday)                          1.0   \n                                     New Route 5C and 5T (Weekend)                          0.0   \nRoute 8X - Lake Louise/Banff Express Fall Routes 8X 2021 (All days of week)                 1.0   \n\n                                                                                         tuesday  \\\nroute_long_name                      service_name                                                  \nRoute 1 - Sulphur Mountain           Fall thru Spring Routes 1 and 2 (All days of week)      1.0   \nRoute 2 - Tunnel Mountain            Fall thru Spring Routes 1 and 2 (All days of week)      1.0   \nRoute 3 -  Canmore/Banff Regional    Spring 2022 Route 3 (Weekday)                           1.0   \n                                     Spring 2022 Route 3 (Weekend)                           0.0   \nRoute 5C - Cougar Creek              New Route 5C and 5T (Weekday)                           1.0   \n                                     New Route 5C and 5T (Weekend)                           0.0   \nRoute 5T - Three Sisters             New Route 5C and 5T (Weekday)                           1.0   \n                                     New Route 5C and 5T (Weekend)                           0.0   \nRoute 8X - Lake Louise/Banff Express Fall Routes 8X 2021 (All days of week)                  1.0   \n\n                                                                                         wednesday  \\\nroute_long_name                      service_name                                                    \nRoute 1 - Sulphur Mountain           Fall thru Spring Routes 1 and 2 (All days of week)        1.0   \nRoute 2 - Tunnel Mountain            Fall thru Spring Routes 1 and 2 (All days of week)        1.0   \nRoute 3 -  Canmore/Banff Regional    Spring 2022 Route 3 (Weekday)                             1.0   \n                                     Spring 2022 Route 3 (Weekend)                             0.0   \nRoute 5C - Cougar Creek              New Route 5C and 5T (Weekday)                             1.0   \n                                     New Route 5C and 5T (Weekend)                             0.0   \nRoute 5T - Three Sisters             New Route 5C and 5T (Weekday)                             1.0   \n                                     New Route 5C and 5T (Weekend)                             0.0   \nRoute 8X - Lake Louise/Banff Express Fall Routes 8X 2021 (All days of week)                    1.0   \n\n                                                                                         thursday  \\\nroute_long_name                      service_name                                                   \nRoute 1 - Sulphur Mountain           Fall thru Spring Routes 1 and 2 (All days of week)       1.0   \nRoute 2 - Tunnel Mountain            Fall thru Spring Routes 1 and 2 (All days of week)       1.0   \nRoute 3 -  Canmore/Banff Regional    Spring 2022 Route 3 (Weekday)                            1.0   \n                                     Spring 2022 Route 3 (Weekend)                            0.0   \nRoute 5C - Cougar Creek              New Route 5C and 5T (Weekday)                            1.0   \n                                     New Route 5C and 5T (Weekend)                            0.0   \nRoute 5T - Three Sisters             New Route 5C and 5T (Weekday)                            1.0   \n                                     New Route 5C and 5T (Weekend)                            0.0   \nRoute 8X - Lake Louise/Banff Express Fall Routes 8X 2021 (All days of week)                   1.0   \n\n                                                                                         friday  \\\nroute_long_name                      service_name                                                 \nRoute 1 - Sulphur Mountain           Fall thru Spring Routes 1 and 2 (All days of week)     1.0   \nRoute 2 - Tunnel Mountain            Fall thru Spring Routes 1 and 2 (All days of week)     1.0   \nRoute 3 -  Canmore/Banff Regional    Spring 2022 Route 3 (Weekday)                          1.0   \n                                     Spring 2022 Route 3 (Weekend)                          0.0   \nRoute 5C - Cougar Creek              New Route 5C and 5T (Weekday)                          1.0   \n                                     New Route 5C and 5T (Weekend)                          0.0   \nRoute 5T - Three Sisters             New Route 5C and 5T (Weekday)                          1.0   \n                                     New Route 5C and 5T (Weekend)                          0.0   \nRoute 8X - Lake Louise/Banff Express Fall Routes 8X 2021 (All days of week)                 1.0   \n\n                                                                                         saturday  \\\nroute_long_name                      service_name                                                   \nRoute 1 - Sulphur Mountain           Fall thru Spring Routes 1 and 2 (All days of week)       1.0   \nRoute 2 - Tunnel Mountain            Fall thru Spring Routes 1 and 2 (All days of week)       1.0   \nRoute 3 -  Canmore/Banff Regional    Spring 2022 Route 3 (Weekday)                            0.0   \n                                     Spring 2022 Route 3 (Weekend)                            1.0   \nRoute 5C - Cougar Creek              New Route 5C and 5T (Weekday)                            0.0   \n                                     New Route 5C and 5T (Weekend)                            1.0   \nRoute 5T - Three Sisters             New Route 5C and 5T (Weekday)                            0.0   \n                                     New Route 5C and 5T (Weekend)                            1.0   \nRoute 8X - Lake Louise/Banff Express Fall Routes 8X 2021 (All days of week)                   1.0   \n\n                                                                                         sunday  \nroute_long_name                      service_name                                                \nRoute 1 - Sulphur Mountain           Fall thru Spring Routes 1 and 2 (All days of week)     1.0  \nRoute 2 - Tunnel Mountain            Fall thru Spring Routes 1 and 2 (All days of week)     1.0  \nRoute 3 -  Canmore/Banff Regional    Spring 2022 Route 3 (Weekday)                          0.0  \n                                     Spring 2022 Route 3 (Weekend)                          1.0  \nRoute 5C - Cougar Creek              New Route 5C and 5T (Weekday)                          0.0  \n                                     New Route 5C and 5T (Weekend)                          1.0  \nRoute 5T - Three Sisters             New Route 5C and 5T (Weekday)                          0.0  \n                                     New Route 5C and 5T (Weekend)                          1.0  \nRoute 8X - Lake Louise/Banff Express Fall Routes 8X 2021 (All days of week)                 1.0  ",
      "text/html": "<div>\n<style scoped>\n    .dataframe tbody tr th:only-of-type {\n        vertical-align: middle;\n    }\n\n    .dataframe tbody tr th {\n        vertical-align: top;\n    }\n\n    .dataframe thead th {\n        text-align: right;\n    }\n</style>\n<table border=\"1\" class=\"dataframe\">\n  <thead>\n    <tr style=\"text-align: right;\">\n      <th></th>\n      <th></th>\n      <th>monday</th>\n      <th>tuesday</th>\n      <th>wednesday</th>\n      <th>thursday</th>\n      <th>friday</th>\n      <th>saturday</th>\n      <th>sunday</th>\n    </tr>\n    <tr>\n      <th>route_long_name</th>\n      <th>service_name</th>\n      <th></th>\n      <th></th>\n      <th></th>\n      <th></th>\n      <th></th>\n      <th></th>\n      <th></th>\n    </tr>\n  </thead>\n  <tbody>\n    <tr>\n      <th>Route 1 - Sulphur Mountain</th>\n      <th>Fall thru Spring Routes 1 and 2 (All days of week)</th>\n      <td>1.0</td>\n      <td>1.0</td>\n      <td>1.0</td>\n      <td>1.0</td>\n      <td>1.0</td>\n      <td>1.0</td>\n      <td>1.0</td>\n    </tr>\n    <tr>\n      <th>Route 2 - Tunnel Mountain</th>\n      <th>Fall thru Spring Routes 1 and 2 (All days of week)</th>\n      <td>1.0</td>\n      <td>1.0</td>\n      <td>1.0</td>\n      <td>1.0</td>\n      <td>1.0</td>\n      <td>1.0</td>\n      <td>1.0</td>\n    </tr>\n    <tr>\n      <th rowspan=\"2\" valign=\"top\">Route 3 -  Canmore/Banff Regional</th>\n      <th>Spring 2022 Route 3 (Weekday)</th>\n      <td>1.0</td>\n      <td>1.0</td>\n      <td>1.0</td>\n      <td>1.0</td>\n      <td>1.0</td>\n      <td>0.0</td>\n      <td>0.0</td>\n    </tr>\n    <tr>\n      <th>Spring 2022 Route 3 (Weekend)</th>\n      <td>0.0</td>\n      <td>0.0</td>\n      <td>0.0</td>\n      <td>0.0</td>\n      <td>0.0</td>\n      <td>1.0</td>\n      <td>1.0</td>\n    </tr>\n    <tr>\n      <th rowspan=\"2\" valign=\"top\">Route 5C - Cougar Creek</th>\n      <th>New Route 5C and 5T (Weekday)</th>\n      <td>1.0</td>\n      <td>1.0</td>\n      <td>1.0</td>\n      <td>1.0</td>\n      <td>1.0</td>\n      <td>0.0</td>\n      <td>0.0</td>\n    </tr>\n    <tr>\n      <th>New Route 5C and 5T (Weekend)</th>\n      <td>0.0</td>\n      <td>0.0</td>\n      <td>0.0</td>\n      <td>0.0</td>\n      <td>0.0</td>\n      <td>1.0</td>\n      <td>1.0</td>\n    </tr>\n    <tr>\n      <th rowspan=\"2\" valign=\"top\">Route 5T - Three Sisters</th>\n      <th>New Route 5C and 5T (Weekday)</th>\n      <td>1.0</td>\n      <td>1.0</td>\n      <td>1.0</td>\n      <td>1.0</td>\n      <td>1.0</td>\n      <td>0.0</td>\n      <td>0.0</td>\n    </tr>\n    <tr>\n      <th>New Route 5C and 5T (Weekend)</th>\n      <td>0.0</td>\n      <td>0.0</td>\n      <td>0.0</td>\n      <td>0.0</td>\n      <td>0.0</td>\n      <td>1.0</td>\n      <td>1.0</td>\n    </tr>\n    <tr>\n      <th>Route 8X - Lake Louise/Banff Express</th>\n      <th>Fall Routes 8X 2021 (All days of week)</th>\n      <td>1.0</td>\n      <td>1.0</td>\n      <td>1.0</td>\n      <td>1.0</td>\n      <td>1.0</td>\n      <td>1.0</td>\n      <td>1.0</td>\n    </tr>\n  </tbody>\n</table>\n</div>"
     },
     "execution_count": 154,
     "metadata": {},
     "output_type": "execute_result"
    }
   ],
   "source": [
    "schedule = gtfs_df.groupby(['route_long_name','service_name'])[['monday','tuesday', 'wednesday', 'thursday', 'friday', 'saturday', 'sunday',]].agg('mean')\n",
    "schedule"
   ],
   "metadata": {
    "collapsed": false,
    "pycharm": {
     "name": "#%%\n"
    }
   }
  },
  {
   "cell_type": "code",
   "execution_count": 155,
   "outputs": [],
   "source": [
    "with pd.ExcelWriter('./route_summaries/route_summary_{}.xlsx'.format(FILENAME)) as writer:\n",
    "       pull_in.to_excel(writer, sheet_name='Pull-In' )\n",
    "       schedule.to_excel(writer, sheet_name='Schedule')"
   ],
   "metadata": {
    "collapsed": false,
    "pycharm": {
     "name": "#%%\n"
    }
   }
  }
 ],
 "metadata": {
  "kernelspec": {
   "display_name": "Python 3",
   "language": "python",
   "name": "python3"
  },
  "language_info": {
   "codemirror_mode": {
    "name": "ipython",
    "version": 2
   },
   "file_extension": ".py",
   "mimetype": "text/x-python",
   "name": "python",
   "nbconvert_exporter": "python",
   "pygments_lexer": "ipython2",
   "version": "2.7.6"
  }
 },
 "nbformat": 4,
 "nbformat_minor": 0
}